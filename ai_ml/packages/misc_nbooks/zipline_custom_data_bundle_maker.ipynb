{
 "cells": [
  {
   "cell_type": "code",
   "execution_count": 51,
   "id": "c0020ca0-1021-4f76-bb48-c9e92dd72a83",
   "metadata": {},
   "outputs": [
    {
     "name": "stdout",
     "output_type": "stream",
     "text": [
      "[*********************100%%**********************]  1 of 1 completed\n",
      "        date        open        high         low       close    volume  \\\n",
      "0 2023-01-03  384.369995  386.429993  377.829987  375.118713  74850700   \n",
      "1 2023-01-04  383.179993  385.880005  380.000000  378.014740  85934100   \n",
      "\n",
      "   dividend  split  \n",
      "0       0.0    1.0  \n",
      "1       0.0    1.0  \n"
     ]
    }
   ],
   "source": [
    "from pandas_datareader import data as pdr\n",
    "\n",
    "import yfinance as yf\n",
    "yf.pdr_override() # <== that's all it takes :-)\n",
    "\n",
    "symbol = \"SPY\"\n",
    "base_folder = r\"C:\\Users\\MAYANK DANGWAL\\.zipline\\csv\\yahoo\\daily\"\n",
    "# download dataframe using pandas_datareader\n",
    "df = pdr.get_data_yahoo(symbol, start=\"2023-01-01\", end=\"2023-12-10\")\n",
    "df = df.reset_index()\n",
    "df = df.drop(columns=\"Close\").rename(columns={\"Adj Close\": \"Close\"})\n",
    "df.columns = ['date', 'open', 'high', 'low', 'close', 'volume']\n",
    "df['dividend'] = 0.0\n",
    "df['split'] = 1.0\n",
    "df['date'] = pd.to_datetime(df.date)\n",
    "print(df.head(2))\n",
    "file_path = \"{}\\{}.csv\".format(base_folder,symbol)\n",
    "df.to_csv(file_path, index=False)\n",
    "\n",
    "\n",
    "\n",
    "\n"
   ]
  },
  {
   "cell_type": "code",
   "execution_count": 94,
   "id": "0ff71345-ce0e-484e-b743-d19bb84f0b02",
   "metadata": {},
   "outputs": [
    {
     "ename": "ImportError",
     "evalue": "cannot import name '_bundle_registry' from 'zipline.data.bundles' (C:\\Users\\pthon\\anaconda3\\envs\\ta_env\\lib\\site-packages\\zipline\\data\\bundles\\__init__.py)",
     "output_type": "error",
     "traceback": [
      "\u001b[1;31m---------------------------------------------------------------------------\u001b[0m",
      "\u001b[1;31mImportError\u001b[0m                               Traceback (most recent call last)",
      "Cell \u001b[1;32mIn[94], line 1\u001b[0m\n\u001b[1;32m----> 1\u001b[0m \u001b[38;5;28;01mfrom\u001b[39;00m \u001b[38;5;21;01mzipline\u001b[39;00m\u001b[38;5;21;01m.\u001b[39;00m\u001b[38;5;21;01mdata\u001b[39;00m\u001b[38;5;21;01m.\u001b[39;00m\u001b[38;5;21;01mbundles\u001b[39;00m \u001b[38;5;28;01mimport\u001b[39;00m _bundle_registry\n\u001b[0;32m      2\u001b[0m \u001b[38;5;28mprint\u001b[39m(_bundle_registry\u001b[38;5;241m.\u001b[39mget(\u001b[38;5;124m'\u001b[39m\u001b[38;5;124mequity-bundle\u001b[39m\u001b[38;5;124m'\u001b[39m, \u001b[38;5;28;01mNone\u001b[39;00m))\n",
      "\u001b[1;31mImportError\u001b[0m: cannot import name '_bundle_registry' from 'zipline.data.bundles' (C:\\Users\\pthon\\anaconda3\\envs\\ta_env\\lib\\site-packages\\zipline\\data\\bundles\\__init__.py)"
     ]
    }
   ],
   "source": [
    "from zipline.data.bundles import _bundle_registry\n",
    "print(_bundle_registry.get('equity-bundle', None))"
   ]
  },
  {
   "cell_type": "code",
   "execution_count": 93,
   "id": "23267d99-9e44-4382-b1b4-5220f7673a58",
   "metadata": {},
   "outputs": [
    {
     "ename": "UnknownBundle",
     "evalue": "No bundle registered with the name 'equities-bundle'",
     "output_type": "error",
     "traceback": [
      "\u001b[1;31m---------------------------------------------------------------------------\u001b[0m",
      "\u001b[1;31mKeyError\u001b[0m                                  Traceback (most recent call last)",
      "File \u001b[1;32mC:\\Users\\pthon\\anaconda3\\envs\\ta_env\\lib\\site-packages\\toolz\\functoolz.py:457\u001b[0m, in \u001b[0;36mmemoize.<locals>.memof\u001b[1;34m(*args, **kwargs)\u001b[0m\n\u001b[0;32m    456\u001b[0m \u001b[38;5;28;01mtry\u001b[39;00m:\n\u001b[1;32m--> 457\u001b[0m     \u001b[38;5;28;01mreturn\u001b[39;00m \u001b[43mcache\u001b[49m\u001b[43m[\u001b[49m\u001b[43mk\u001b[49m\u001b[43m]\u001b[49m\n\u001b[0;32m    458\u001b[0m \u001b[38;5;28;01mexcept\u001b[39;00m \u001b[38;5;167;01mTypeError\u001b[39;00m:\n",
      "\u001b[1;31mKeyError\u001b[0m: 'equities-bundle'",
      "\nDuring handling of the above exception, another exception occurred:\n",
      "\u001b[1;31mUnknownBundle\u001b[0m                             Traceback (most recent call last)",
      "Cell \u001b[1;32mIn[93], line 4\u001b[0m\n\u001b[0;32m      2\u001b[0m \u001b[38;5;28;01mfrom\u001b[39;00m \u001b[38;5;21;01mzipline\u001b[39;00m\u001b[38;5;21;01m.\u001b[39;00m\u001b[38;5;21;01mpipeline\u001b[39;00m\u001b[38;5;21;01m.\u001b[39;00m\u001b[38;5;21;01mdata\u001b[39;00m \u001b[38;5;28;01mimport\u001b[39;00m USEquityPricing\n\u001b[0;32m      3\u001b[0m \u001b[38;5;28;01mfrom\u001b[39;00m \u001b[38;5;21;01mzipline\u001b[39;00m\u001b[38;5;21;01m.\u001b[39;00m\u001b[38;5;21;01mrun_pipeline_against_bundle\u001b[39;00m \u001b[38;5;28;01mimport\u001b[39;00m run_pipeline_against_bundle\n\u001b[1;32m----> 4\u001b[0m \u001b[43mrun_pipeline_against_bundle\u001b[49m\u001b[43m(\u001b[49m\u001b[43mPipeline\u001b[49m\u001b[43m(\u001b[49m\u001b[43m{\u001b[49m\u001b[38;5;124;43m'\u001b[39;49m\u001b[38;5;124;43mclose\u001b[39;49m\u001b[38;5;124;43m'\u001b[39;49m\u001b[43m:\u001b[49m\u001b[43m \u001b[49m\u001b[43mUSEquityPricing\u001b[49m\u001b[38;5;241;43m.\u001b[39;49m\u001b[43mclose\u001b[49m\u001b[38;5;241;43m.\u001b[39;49m\u001b[43mlatest\u001b[49m\u001b[43m}\u001b[49m\u001b[43m)\u001b[49m\u001b[43m,\u001b[49m\u001b[38;5;124;43m'\u001b[39;49m\u001b[38;5;124;43m2017\u001b[39;49m\u001b[38;5;124;43m'\u001b[39;49m\u001b[43m,\u001b[49m\u001b[38;5;124;43m'\u001b[39;49m\u001b[38;5;124;43m2018\u001b[39;49m\u001b[38;5;124;43m'\u001b[39;49m\u001b[43m,\u001b[49m\u001b[43mbundle\u001b[49m\u001b[38;5;241;43m=\u001b[39;49m\u001b[38;5;124;43m'\u001b[39;49m\u001b[38;5;124;43mequities-bundle\u001b[39;49m\u001b[38;5;124;43m'\u001b[39;49m\u001b[43m)\u001b[49m\n",
      "File \u001b[1;32mC:\\Users\\pthon\\anaconda3\\envs\\ta_env\\lib\\site-packages\\zipline\\run_pipeline_against_bundle.py:68\u001b[0m, in \u001b[0;36mrun_pipeline_against_bundle\u001b[1;34m(pipeline, start_date, end_date, bundle)\u001b[0m\n\u001b[0;32m     49\u001b[0m \u001b[38;5;28;01mdef\u001b[39;00m \u001b[38;5;21mrun_pipeline_against_bundle\u001b[39m(pipeline, start_date, end_date, bundle):\n\u001b[0;32m     50\u001b[0m \u001b[38;5;250m    \u001b[39m\u001b[38;5;124;03m\"\"\"Run a pipeline against the data in a bundle.\u001b[39;00m\n\u001b[0;32m     51\u001b[0m \n\u001b[0;32m     52\u001b[0m \u001b[38;5;124;03m    Parameters\u001b[39;00m\n\u001b[1;32m   (...)\u001b[0m\n\u001b[0;32m     66\u001b[0m \u001b[38;5;124;03m        The result of the pipeline.\u001b[39;00m\n\u001b[0;32m     67\u001b[0m \u001b[38;5;124;03m    \"\"\"\u001b[39;00m\n\u001b[1;32m---> 68\u001b[0m     engine, calendar \u001b[38;5;241m=\u001b[39m \u001b[43m_pipeline_engine_and_calendar_for_bundle\u001b[49m\u001b[43m(\u001b[49m\u001b[43mbundle\u001b[49m\u001b[43m)\u001b[49m\n\u001b[0;32m     70\u001b[0m     start_date \u001b[38;5;241m=\u001b[39m pd\u001b[38;5;241m.\u001b[39mTimestamp(start_date, tz\u001b[38;5;241m=\u001b[39m\u001b[38;5;124m'\u001b[39m\u001b[38;5;124mutc\u001b[39m\u001b[38;5;124m'\u001b[39m)\n\u001b[0;32m     71\u001b[0m     \u001b[38;5;28;01mif\u001b[39;00m \u001b[38;5;129;01mnot\u001b[39;00m calendar\u001b[38;5;241m.\u001b[39mis_session(start_date):\n\u001b[0;32m     72\u001b[0m         \u001b[38;5;66;03m# this is not a trading session, advance to the next session\u001b[39;00m\n",
      "File \u001b[1;32mC:\\Users\\pthon\\anaconda3\\envs\\ta_env\\lib\\site-packages\\toolz\\functoolz.py:461\u001b[0m, in \u001b[0;36mmemoize.<locals>.memof\u001b[1;34m(*args, **kwargs)\u001b[0m\n\u001b[0;32m    459\u001b[0m     \u001b[38;5;28;01mraise\u001b[39;00m \u001b[38;5;167;01mTypeError\u001b[39;00m(\u001b[38;5;124m\"\u001b[39m\u001b[38;5;124mArguments to memoized function must be hashable\u001b[39m\u001b[38;5;124m\"\u001b[39m)\n\u001b[0;32m    460\u001b[0m \u001b[38;5;28;01mexcept\u001b[39;00m \u001b[38;5;167;01mKeyError\u001b[39;00m:\n\u001b[1;32m--> 461\u001b[0m     cache[k] \u001b[38;5;241m=\u001b[39m result \u001b[38;5;241m=\u001b[39m func(\u001b[38;5;241m*\u001b[39margs, \u001b[38;5;241m*\u001b[39m\u001b[38;5;241m*\u001b[39mkwargs)\n\u001b[0;32m    462\u001b[0m     \u001b[38;5;28;01mreturn\u001b[39;00m result\n",
      "File \u001b[1;32mC:\\Users\\pthon\\anaconda3\\envs\\ta_env\\lib\\site-packages\\zipline\\run_pipeline_against_bundle.py:25\u001b[0m, in \u001b[0;36m_pipeline_engine_and_calendar_for_bundle\u001b[1;34m(bundle)\u001b[0m\n\u001b[0;32m      9\u001b[0m \u001b[38;5;129m@toolz\u001b[39m\u001b[38;5;241m.\u001b[39mmemoize\n\u001b[0;32m     10\u001b[0m \u001b[38;5;28;01mdef\u001b[39;00m \u001b[38;5;21m_pipeline_engine_and_calendar_for_bundle\u001b[39m(bundle):\n\u001b[0;32m     11\u001b[0m \u001b[38;5;250m    \u001b[39m\u001b[38;5;124;03m\"\"\"Create a pipeline engine for the given bundle.\u001b[39;00m\n\u001b[0;32m     12\u001b[0m \n\u001b[0;32m     13\u001b[0m \u001b[38;5;124;03m    Parameters\u001b[39;00m\n\u001b[1;32m   (...)\u001b[0m\n\u001b[0;32m     23\u001b[0m \u001b[38;5;124;03m        The trading calendar for the bundle.\u001b[39;00m\n\u001b[0;32m     24\u001b[0m \u001b[38;5;124;03m    \"\"\"\u001b[39;00m\n\u001b[1;32m---> 25\u001b[0m     bundle_data \u001b[38;5;241m=\u001b[39m \u001b[43mbundles\u001b[49m\u001b[38;5;241;43m.\u001b[39;49m\u001b[43mload\u001b[49m\u001b[43m(\u001b[49m\u001b[43mbundle\u001b[49m\u001b[43m)\u001b[49m\n\u001b[0;32m     26\u001b[0m     pipeline_loader \u001b[38;5;241m=\u001b[39m USEquityPricingLoader(\n\u001b[0;32m     27\u001b[0m         bundle_data\u001b[38;5;241m.\u001b[39mequity_daily_bar_reader,\n\u001b[0;32m     28\u001b[0m         bundle_data\u001b[38;5;241m.\u001b[39madjustment_reader,\n\u001b[0;32m     29\u001b[0m     )\n\u001b[0;32m     31\u001b[0m     \u001b[38;5;28;01mdef\u001b[39;00m \u001b[38;5;21mchoose_loader\u001b[39m(column):\n",
      "File \u001b[1;32mC:\\Users\\pthon\\anaconda3\\envs\\ta_env\\lib\\site-packages\\zipline\\data\\bundles\\core.py:532\u001b[0m, in \u001b[0;36m_make_bundle_core.<locals>.load\u001b[1;34m(name, environ, timestamp)\u001b[0m\n\u001b[0;32m    530\u001b[0m \u001b[38;5;28;01mif\u001b[39;00m timestamp \u001b[38;5;129;01mis\u001b[39;00m \u001b[38;5;28;01mNone\u001b[39;00m:\n\u001b[0;32m    531\u001b[0m     timestamp \u001b[38;5;241m=\u001b[39m pd\u001b[38;5;241m.\u001b[39mTimestamp\u001b[38;5;241m.\u001b[39mutcnow()\n\u001b[1;32m--> 532\u001b[0m timestr \u001b[38;5;241m=\u001b[39m \u001b[43mmost_recent_data\u001b[49m\u001b[43m(\u001b[49m\u001b[43mname\u001b[49m\u001b[43m,\u001b[49m\u001b[43m \u001b[49m\u001b[43mtimestamp\u001b[49m\u001b[43m,\u001b[49m\u001b[43m \u001b[49m\u001b[43menviron\u001b[49m\u001b[38;5;241;43m=\u001b[39;49m\u001b[43menviron\u001b[49m\u001b[43m)\u001b[49m\n\u001b[0;32m    533\u001b[0m \u001b[38;5;28;01mreturn\u001b[39;00m BundleData(\n\u001b[0;32m    534\u001b[0m     asset_finder\u001b[38;5;241m=\u001b[39mAssetFinder(\n\u001b[0;32m    535\u001b[0m         asset_db_path(name, timestr, environ\u001b[38;5;241m=\u001b[39menviron),\n\u001b[1;32m   (...)\u001b[0m\n\u001b[0;32m    545\u001b[0m     ),\n\u001b[0;32m    546\u001b[0m )\n",
      "File \u001b[1;32mC:\\Users\\pthon\\anaconda3\\envs\\ta_env\\lib\\site-packages\\zipline\\data\\bundles\\core.py:485\u001b[0m, in \u001b[0;36m_make_bundle_core.<locals>.most_recent_data\u001b[1;34m(bundle_name, timestamp, environ)\u001b[0m\n\u001b[0;32m    472\u001b[0m \u001b[38;5;250m\u001b[39m\u001b[38;5;124;03m\"\"\"Get the path to the most recent data after ``date``for the\u001b[39;00m\n\u001b[0;32m    473\u001b[0m \u001b[38;5;124;03mgiven bundle.\u001b[39;00m\n\u001b[0;32m    474\u001b[0m \n\u001b[1;32m   (...)\u001b[0m\n\u001b[0;32m    482\u001b[0m \u001b[38;5;124;03m    An environment dict to forward to zipline_root.\u001b[39;00m\n\u001b[0;32m    483\u001b[0m \u001b[38;5;124;03m\"\"\"\u001b[39;00m\n\u001b[0;32m    484\u001b[0m \u001b[38;5;28;01mif\u001b[39;00m bundle_name \u001b[38;5;129;01mnot\u001b[39;00m \u001b[38;5;129;01min\u001b[39;00m bundles:\n\u001b[1;32m--> 485\u001b[0m     \u001b[38;5;28;01mraise\u001b[39;00m UnknownBundle(bundle_name)\n\u001b[0;32m    487\u001b[0m \u001b[38;5;28;01mtry\u001b[39;00m:\n\u001b[0;32m    488\u001b[0m     candidates \u001b[38;5;241m=\u001b[39m os\u001b[38;5;241m.\u001b[39mlistdir(\n\u001b[0;32m    489\u001b[0m         pth\u001b[38;5;241m.\u001b[39mdata_path([bundle_name], environ\u001b[38;5;241m=\u001b[39menviron),\n\u001b[0;32m    490\u001b[0m     )\n",
      "\u001b[1;31mUnknownBundle\u001b[0m: No bundle registered with the name 'equities-bundle'"
     ]
    }
   ],
   "source": [
    "from zipline.pipeline import Pipeline\n",
    "from zipline.pipeline.data import USEquityPricing\n",
    "from zipline.run_pipeline_against_bundle import run_pipeline_against_bundle\n",
    "run_pipeline_against_bundle(Pipeline({'close': USEquityPricing.close.latest}),'2017','2018',bundle='equities-bundle')"
   ]
  },
  {
   "cell_type": "code",
   "execution_count": 79,
   "id": "af6c4d50-c4a7-42c7-8189-e0c8759abbe7",
   "metadata": {},
   "outputs": [],
   "source": [
    "%load_ext zipline"
   ]
  },
  {
   "cell_type": "code",
   "execution_count": 97,
   "id": "09f1cd62-ad8b-4de4-8b9e-ef341d4a6593",
   "metadata": {},
   "outputs": [
    {
     "ename": "UnknownBundle",
     "evalue": "No bundle registered with the name 'equity-bundle'",
     "output_type": "error",
     "traceback": [
      "\u001b[1;31m---------------------------------------------------------------------------\u001b[0m",
      "\u001b[1;31mUnknownBundle\u001b[0m                             Traceback (most recent call last)",
      "Cell \u001b[1;32mIn[97], line 1\u001b[0m\n\u001b[1;32m----> 1\u001b[0m \u001b[43mget_ipython\u001b[49m\u001b[43m(\u001b[49m\u001b[43m)\u001b[49m\u001b[38;5;241;43m.\u001b[39;49m\u001b[43mrun_cell_magic\u001b[49m\u001b[43m(\u001b[49m\u001b[38;5;124;43m'\u001b[39;49m\u001b[38;5;124;43mzipline\u001b[39;49m\u001b[38;5;124;43m'\u001b[39;49m\u001b[43m,\u001b[49m\u001b[43m \u001b[49m\u001b[38;5;124;43m'\u001b[39;49m\u001b[38;5;124;43m--start 2023-01-01 --end 2023-12-10 --output single_factor.pickle --no-benchmark --bundle equity-bundle\u001b[39;49m\u001b[38;5;124;43m'\u001b[39;49m\u001b[43m,\u001b[49m\u001b[43m \u001b[49m\u001b[38;5;124;43m'\u001b[39;49m\u001b[38;5;124;43m#start=\u001b[39;49m\u001b[38;5;124;43m\"\u001b[39;49m\u001b[38;5;124;43m2023-01-01\u001b[39;49m\u001b[38;5;124;43m\"\u001b[39;49m\u001b[38;5;124;43m, end=\u001b[39;49m\u001b[38;5;124;43m\"\u001b[39;49m\u001b[38;5;124;43m2023-12-10\u001b[39;49m\u001b[38;5;124;43m\"\u001b[39;49m\u001b[38;5;130;43;01m\\n\u001b[39;49;00m\u001b[38;5;124;43mfrom zipline.api import (\u001b[39;49m\u001b[38;5;130;43;01m\\n\u001b[39;49;00m\u001b[38;5;124;43m    attach_pipeline,\u001b[39;49m\u001b[38;5;130;43;01m\\n\u001b[39;49;00m\u001b[38;5;124;43m    date_rules,\u001b[39;49m\u001b[38;5;130;43;01m\\n\u001b[39;49;00m\u001b[38;5;124;43m    time_rules,\u001b[39;49m\u001b[38;5;130;43;01m\\n\u001b[39;49;00m\u001b[38;5;124;43m    order_target_percent,\u001b[39;49m\u001b[38;5;130;43;01m\\n\u001b[39;49;00m\u001b[38;5;124;43m    pipeline_output,\u001b[39;49m\u001b[38;5;130;43;01m\\n\u001b[39;49;00m\u001b[38;5;124;43m    record,\u001b[39;49m\u001b[38;5;130;43;01m\\n\u001b[39;49;00m\u001b[38;5;124;43m    schedule_function,\u001b[39;49m\u001b[38;5;130;43;01m\\n\u001b[39;49;00m\u001b[38;5;124;43m    get_open_orders,\u001b[39;49m\u001b[38;5;130;43;01m\\n\u001b[39;49;00m\u001b[38;5;124;43m    calendars\u001b[39;49m\u001b[38;5;130;43;01m\\n\u001b[39;49;00m\u001b[38;5;124;43m)\u001b[39;49m\u001b[38;5;130;43;01m\\n\u001b[39;49;00m\u001b[38;5;124;43mfrom zipline.finance import commission, slippage\u001b[39;49m\u001b[38;5;130;43;01m\\n\u001b[39;49;00m\u001b[38;5;124;43mfrom zipline.pipeline import Pipeline, CustomFactor\u001b[39;49m\u001b[38;5;130;43;01m\\n\u001b[39;49;00m\u001b[38;5;124;43mfrom zipline.pipeline.factors import Returns, AverageDollarVolume\u001b[39;49m\u001b[38;5;130;43;01m\\n\u001b[39;49;00m\u001b[38;5;124;43mimport numpy as np\u001b[39;49m\u001b[38;5;130;43;01m\\n\u001b[39;49;00m\u001b[38;5;124;43mimport pandas as pd\u001b[39;49m\u001b[38;5;130;43;01m\\n\u001b[39;49;00m\u001b[38;5;130;43;01m\\n\u001b[39;49;00m\u001b[38;5;124;43mMONTH = 21\u001b[39;49m\u001b[38;5;130;43;01m\\n\u001b[39;49;00m\u001b[38;5;124;43mYEAR = 12 * MONTH\u001b[39;49m\u001b[38;5;130;43;01m\\n\u001b[39;49;00m\u001b[38;5;124;43mN_LONGS = N_SHORTS = 25\u001b[39;49m\u001b[38;5;130;43;01m\\n\u001b[39;49;00m\u001b[38;5;124;43mVOL_SCREEN = 1000\u001b[39;49m\u001b[38;5;130;43;01m\\n\u001b[39;49;00m\u001b[38;5;130;43;01m\\n\u001b[39;49;00m\u001b[38;5;124;43mclass MeanReversion(CustomFactor):\u001b[39;49m\u001b[38;5;130;43;01m\\n\u001b[39;49;00m\u001b[38;5;124;43m    \u001b[39;49m\u001b[38;5;124;43m\"\u001b[39;49m\u001b[38;5;124;43m\"\u001b[39;49m\u001b[38;5;124;43m\"\u001b[39;49m\u001b[38;5;124;43mCompute ratio of latest monthly return to 12m average,\u001b[39;49m\u001b[38;5;130;43;01m\\n\u001b[39;49;00m\u001b[38;5;124;43m       normalized by std dev of monthly returns\u001b[39;49m\u001b[38;5;124;43m\"\u001b[39;49m\u001b[38;5;124;43m\"\u001b[39;49m\u001b[38;5;124;43m\"\u001b[39;49m\u001b[38;5;130;43;01m\\n\u001b[39;49;00m\u001b[38;5;124;43m    inputs = [Returns(window_length=MONTH)]\u001b[39;49m\u001b[38;5;130;43;01m\\n\u001b[39;49;00m\u001b[38;5;124;43m    window_length = YEAR\u001b[39;49m\u001b[38;5;130;43;01m\\n\u001b[39;49;00m\u001b[38;5;130;43;01m\\n\u001b[39;49;00m\u001b[38;5;124;43m    def compute(self, today, assets, out, monthly_returns):\u001b[39;49m\u001b[38;5;130;43;01m\\n\u001b[39;49;00m\u001b[38;5;124;43m        df = pd.DataFrame(monthly_returns)\u001b[39;49m\u001b[38;5;130;43;01m\\n\u001b[39;49;00m\u001b[38;5;124;43m        out[:] = df.iloc[-1].sub(df.mean()).div(df.std())\u001b[39;49m\u001b[38;5;130;43;01m\\n\u001b[39;49;00m\u001b[38;5;130;43;01m\\n\u001b[39;49;00m\u001b[38;5;130;43;01m\\n\u001b[39;49;00m\u001b[38;5;124;43mdef compute_factors():\u001b[39;49m\u001b[38;5;130;43;01m\\n\u001b[39;49;00m\u001b[38;5;124;43m    \u001b[39;49m\u001b[38;5;124;43m\"\u001b[39;49m\u001b[38;5;124;43m\"\u001b[39;49m\u001b[38;5;124;43m\"\u001b[39;49m\u001b[38;5;124;43mCreate factor pipeline incl. mean reversion,\u001b[39;49m\u001b[38;5;130;43;01m\\n\u001b[39;49;00m\u001b[38;5;124;43m        filtered by 30d Dollar Volume; capture factor ranks\u001b[39;49m\u001b[38;5;124;43m\"\u001b[39;49m\u001b[38;5;124;43m\"\u001b[39;49m\u001b[38;5;124;43m\"\u001b[39;49m\u001b[38;5;130;43;01m\\n\u001b[39;49;00m\u001b[38;5;124;43m    mean_reversion = MeanReversion()\u001b[39;49m\u001b[38;5;130;43;01m\\n\u001b[39;49;00m\u001b[38;5;124;43m    dollar_volume = AverageDollarVolume(window_length=30)\u001b[39;49m\u001b[38;5;130;43;01m\\n\u001b[39;49;00m\u001b[38;5;124;43m    return Pipeline(columns=\u001b[39;49m\u001b[38;5;124;43m{\u001b[39;49m\u001b[38;5;130;43;01m\\'\u001b[39;49;00m\u001b[38;5;124;43mlongs\u001b[39;49m\u001b[38;5;130;43;01m\\'\u001b[39;49;00m\u001b[38;5;124;43m: mean_reversion.bottom(N_LONGS),\u001b[39;49m\u001b[38;5;130;43;01m\\n\u001b[39;49;00m\u001b[38;5;124;43m                             \u001b[39;49m\u001b[38;5;130;43;01m\\'\u001b[39;49;00m\u001b[38;5;124;43mshorts\u001b[39;49m\u001b[38;5;130;43;01m\\'\u001b[39;49;00m\u001b[38;5;124;43m: mean_reversion.top(N_SHORTS),\u001b[39;49m\u001b[38;5;130;43;01m\\n\u001b[39;49;00m\u001b[38;5;124;43m                             \u001b[39;49m\u001b[38;5;130;43;01m\\'\u001b[39;49;00m\u001b[38;5;124;43mranking\u001b[39;49m\u001b[38;5;130;43;01m\\'\u001b[39;49;00m\u001b[38;5;124;43m: mean_reversion.rank(ascending=False)},\u001b[39;49m\u001b[38;5;130;43;01m\\n\u001b[39;49;00m\u001b[38;5;124;43m                    screen=dollar_volume.top(VOL_SCREEN))\u001b[39;49m\u001b[38;5;130;43;01m\\n\u001b[39;49;00m\u001b[38;5;130;43;01m\\n\u001b[39;49;00m\u001b[38;5;130;43;01m\\n\u001b[39;49;00m\u001b[38;5;124;43mdef exec_trades(data, assets, target_percent):\u001b[39;49m\u001b[38;5;130;43;01m\\n\u001b[39;49;00m\u001b[38;5;124;43m    \u001b[39;49m\u001b[38;5;124;43m\"\u001b[39;49m\u001b[38;5;124;43m\"\u001b[39;49m\u001b[38;5;124;43m\"\u001b[39;49m\u001b[38;5;124;43mPlace orders for assets using target portfolio percentage\u001b[39;49m\u001b[38;5;124;43m\"\u001b[39;49m\u001b[38;5;124;43m\"\u001b[39;49m\u001b[38;5;124;43m\"\u001b[39;49m\u001b[38;5;130;43;01m\\n\u001b[39;49;00m\u001b[38;5;124;43m    for asset in assets:\u001b[39;49m\u001b[38;5;130;43;01m\\n\u001b[39;49;00m\u001b[38;5;124;43m        if data.can_trade(asset) and not get_open_orders(asset):\u001b[39;49m\u001b[38;5;130;43;01m\\n\u001b[39;49;00m\u001b[38;5;124;43m            order_target_percent(asset, target_percent)\u001b[39;49m\u001b[38;5;130;43;01m\\n\u001b[39;49;00m\u001b[38;5;130;43;01m\\n\u001b[39;49;00m\u001b[38;5;130;43;01m\\n\u001b[39;49;00m\u001b[38;5;124;43mdef rebalance(context, data):\u001b[39;49m\u001b[38;5;130;43;01m\\n\u001b[39;49;00m\u001b[38;5;124;43m    \u001b[39;49m\u001b[38;5;124;43m\"\u001b[39;49m\u001b[38;5;124;43m\"\u001b[39;49m\u001b[38;5;124;43m\"\u001b[39;49m\u001b[38;5;124;43mCompute long, short and obsolete holdings; place trade orders\u001b[39;49m\u001b[38;5;124;43m\"\u001b[39;49m\u001b[38;5;124;43m\"\u001b[39;49m\u001b[38;5;124;43m\"\u001b[39;49m\u001b[38;5;130;43;01m\\n\u001b[39;49;00m\u001b[38;5;124;43m    factor_data = context.factor_data\u001b[39;49m\u001b[38;5;130;43;01m\\n\u001b[39;49;00m\u001b[38;5;124;43m    record(factor_data=factor_data.ranking)\u001b[39;49m\u001b[38;5;130;43;01m\\n\u001b[39;49;00m\u001b[38;5;130;43;01m\\n\u001b[39;49;00m\u001b[38;5;124;43m    assets = factor_data.index\u001b[39;49m\u001b[38;5;130;43;01m\\n\u001b[39;49;00m\u001b[38;5;124;43m    record(prices=data.current(assets, \u001b[39;49m\u001b[38;5;130;43;01m\\'\u001b[39;49;00m\u001b[38;5;124;43mprice\u001b[39;49m\u001b[38;5;130;43;01m\\'\u001b[39;49;00m\u001b[38;5;124;43m))\u001b[39;49m\u001b[38;5;130;43;01m\\n\u001b[39;49;00m\u001b[38;5;130;43;01m\\n\u001b[39;49;00m\u001b[38;5;124;43m    longs = assets[factor_data.longs]\u001b[39;49m\u001b[38;5;130;43;01m\\n\u001b[39;49;00m\u001b[38;5;124;43m    shorts = assets[factor_data.shorts]\u001b[39;49m\u001b[38;5;130;43;01m\\n\u001b[39;49;00m\u001b[38;5;124;43m    divest = set(context.portfolio.positions.keys()) - set(longs.union(shorts))\u001b[39;49m\u001b[38;5;130;43;01m\\n\u001b[39;49;00m\u001b[38;5;130;43;01m\\n\u001b[39;49;00m\u001b[38;5;124;43m    exec_trades(data, assets=divest, target_percent=0)\u001b[39;49m\u001b[38;5;130;43;01m\\n\u001b[39;49;00m\u001b[38;5;124;43m    exec_trades(data, assets=longs, target_percent=1 / N_LONGS)\u001b[39;49m\u001b[38;5;130;43;01m\\n\u001b[39;49;00m\u001b[38;5;124;43m    exec_trades(data, assets=shorts, target_percent=-1 / N_SHORTS)\u001b[39;49m\u001b[38;5;130;43;01m\\n\u001b[39;49;00m\u001b[38;5;130;43;01m\\n\u001b[39;49;00m\u001b[38;5;130;43;01m\\n\u001b[39;49;00m\u001b[38;5;124;43mdef initialize(context):\u001b[39;49m\u001b[38;5;130;43;01m\\n\u001b[39;49;00m\u001b[38;5;124;43m    \u001b[39;49m\u001b[38;5;124;43m\"\u001b[39;49m\u001b[38;5;124;43m\"\u001b[39;49m\u001b[38;5;124;43m\"\u001b[39;49m\u001b[38;5;124;43mSetup: register pipeline, schedule rebalancing,\u001b[39;49m\u001b[38;5;130;43;01m\\n\u001b[39;49;00m\u001b[38;5;124;43m        and set trading params\u001b[39;49m\u001b[38;5;124;43m\"\u001b[39;49m\u001b[38;5;124;43m\"\u001b[39;49m\u001b[38;5;124;43m\"\u001b[39;49m\u001b[38;5;130;43;01m\\n\u001b[39;49;00m\u001b[38;5;124;43m    attach_pipeline(compute_factors(), \u001b[39;49m\u001b[38;5;130;43;01m\\'\u001b[39;49;00m\u001b[38;5;124;43mfactor_pipeline\u001b[39;49m\u001b[38;5;130;43;01m\\'\u001b[39;49;00m\u001b[38;5;124;43m)\u001b[39;49m\u001b[38;5;130;43;01m\\n\u001b[39;49;00m\u001b[38;5;124;43m    schedule_function(rebalance,\u001b[39;49m\u001b[38;5;130;43;01m\\n\u001b[39;49;00m\u001b[38;5;124;43m                      date_rules.week_start(),\u001b[39;49m\u001b[38;5;130;43;01m\\n\u001b[39;49;00m\u001b[38;5;124;43m                      time_rules.market_open(),\u001b[39;49m\u001b[38;5;130;43;01m\\n\u001b[39;49;00m\u001b[38;5;124;43m                      calendar=calendars.US_EQUITIES)\u001b[39;49m\u001b[38;5;130;43;01m\\n\u001b[39;49;00m\u001b[38;5;124;43m    context.set_commission(commission.PerShare(cost=.01, min_trade_cost=0))\u001b[39;49m\u001b[38;5;130;43;01m\\n\u001b[39;49;00m\u001b[38;5;124;43m    context.set_slippage(slippage.VolumeShareSlippage())\u001b[39;49m\u001b[38;5;130;43;01m\\n\u001b[39;49;00m\u001b[38;5;130;43;01m\\n\u001b[39;49;00m\u001b[38;5;130;43;01m\\n\u001b[39;49;00m\u001b[38;5;124;43mdef before_trading_start(context, data):\u001b[39;49m\u001b[38;5;130;43;01m\\n\u001b[39;49;00m\u001b[38;5;124;43m    \u001b[39;49m\u001b[38;5;124;43m\"\u001b[39;49m\u001b[38;5;124;43m\"\u001b[39;49m\u001b[38;5;124;43m\"\u001b[39;49m\u001b[38;5;124;43mRun factor pipeline\u001b[39;49m\u001b[38;5;124;43m\"\u001b[39;49m\u001b[38;5;124;43m\"\u001b[39;49m\u001b[38;5;124;43m\"\u001b[39;49m\u001b[38;5;130;43;01m\\n\u001b[39;49;00m\u001b[38;5;124;43m    context.factor_data = pipeline_output(\u001b[39;49m\u001b[38;5;130;43;01m\\'\u001b[39;49;00m\u001b[38;5;124;43mfactor_pipeline\u001b[39;49m\u001b[38;5;130;43;01m\\'\u001b[39;49;00m\u001b[38;5;124;43m)\u001b[39;49m\u001b[38;5;130;43;01m\\n\u001b[39;49;00m\u001b[38;5;124;43m'\u001b[39;49m\u001b[43m)\u001b[49m\n",
      "File \u001b[1;32mC:\\Users\\pthon\\anaconda3\\envs\\ta_env\\lib\\site-packages\\IPython\\core\\interactiveshell.py:2493\u001b[0m, in \u001b[0;36mInteractiveShell.run_cell_magic\u001b[1;34m(self, magic_name, line, cell)\u001b[0m\n\u001b[0;32m   2491\u001b[0m \u001b[38;5;28;01mwith\u001b[39;00m \u001b[38;5;28mself\u001b[39m\u001b[38;5;241m.\u001b[39mbuiltin_trap:\n\u001b[0;32m   2492\u001b[0m     args \u001b[38;5;241m=\u001b[39m (magic_arg_s, cell)\n\u001b[1;32m-> 2493\u001b[0m     result \u001b[38;5;241m=\u001b[39m fn(\u001b[38;5;241m*\u001b[39margs, \u001b[38;5;241m*\u001b[39m\u001b[38;5;241m*\u001b[39mkwargs)\n\u001b[0;32m   2495\u001b[0m \u001b[38;5;66;03m# The code below prevents the output from being displayed\u001b[39;00m\n\u001b[0;32m   2496\u001b[0m \u001b[38;5;66;03m# when using magics with decorator @output_can_be_silenced\u001b[39;00m\n\u001b[0;32m   2497\u001b[0m \u001b[38;5;66;03m# when the last Python token in the expression is a ';'.\u001b[39;00m\n\u001b[0;32m   2498\u001b[0m \u001b[38;5;28;01mif\u001b[39;00m \u001b[38;5;28mgetattr\u001b[39m(fn, magic\u001b[38;5;241m.\u001b[39mMAGIC_OUTPUT_CAN_BE_SILENCED, \u001b[38;5;28;01mFalse\u001b[39;00m):\n",
      "File \u001b[1;32mC:\\Users\\pthon\\anaconda3\\envs\\ta_env\\lib\\site-packages\\zipline\\__main__.py:341\u001b[0m, in \u001b[0;36mzipline_magic\u001b[1;34m(line, cell)\u001b[0m\n\u001b[0;32m    334\u001b[0m load_extensions(\n\u001b[0;32m    335\u001b[0m     default\u001b[38;5;241m=\u001b[39m\u001b[38;5;28;01mTrue\u001b[39;00m,\n\u001b[0;32m    336\u001b[0m     extensions\u001b[38;5;241m=\u001b[39m[],\n\u001b[0;32m    337\u001b[0m     strict\u001b[38;5;241m=\u001b[39m\u001b[38;5;28;01mTrue\u001b[39;00m,\n\u001b[0;32m    338\u001b[0m     environ\u001b[38;5;241m=\u001b[39mos\u001b[38;5;241m.\u001b[39menviron,\n\u001b[0;32m    339\u001b[0m )\n\u001b[0;32m    340\u001b[0m \u001b[38;5;28;01mtry\u001b[39;00m:\n\u001b[1;32m--> 341\u001b[0m     \u001b[38;5;28;01mreturn\u001b[39;00m \u001b[43mrun\u001b[49m\u001b[38;5;241;43m.\u001b[39;49m\u001b[43mmain\u001b[49m\u001b[43m(\u001b[49m\n\u001b[0;32m    342\u001b[0m \u001b[43m        \u001b[49m\u001b[38;5;66;43;03m# put our overrides at the start of the parameter list so that\u001b[39;49;00m\n\u001b[0;32m    343\u001b[0m \u001b[43m        \u001b[49m\u001b[38;5;66;43;03m# users may pass values with higher precedence\u001b[39;49;00m\n\u001b[0;32m    344\u001b[0m \u001b[43m        \u001b[49m\u001b[43m[\u001b[49m\n\u001b[0;32m    345\u001b[0m \u001b[43m            \u001b[49m\u001b[38;5;124;43m\"\u001b[39;49m\u001b[38;5;124;43m--algotext\u001b[39;49m\u001b[38;5;124;43m\"\u001b[39;49m\u001b[43m,\u001b[49m\n\u001b[0;32m    346\u001b[0m \u001b[43m            \u001b[49m\u001b[43mcell\u001b[49m\u001b[43m,\u001b[49m\n\u001b[0;32m    347\u001b[0m \u001b[43m            \u001b[49m\u001b[38;5;124;43m\"\u001b[39;49m\u001b[38;5;124;43m--output\u001b[39;49m\u001b[38;5;124;43m\"\u001b[39;49m\u001b[43m,\u001b[49m\n\u001b[0;32m    348\u001b[0m \u001b[43m            \u001b[49m\u001b[43mos\u001b[49m\u001b[38;5;241;43m.\u001b[39;49m\u001b[43mdevnull\u001b[49m\u001b[43m,\u001b[49m\u001b[43m  \u001b[49m\u001b[38;5;66;43;03m# don't write the results by default\u001b[39;49;00m\n\u001b[0;32m    349\u001b[0m \u001b[43m        \u001b[49m\u001b[43m]\u001b[49m\n\u001b[0;32m    350\u001b[0m \u001b[43m        \u001b[49m\u001b[38;5;241;43m+\u001b[39;49m\u001b[43m \u001b[49m\u001b[43m(\u001b[49m\n\u001b[0;32m    351\u001b[0m \u001b[43m            \u001b[49m\u001b[43m[\u001b[49m\n\u001b[0;32m    352\u001b[0m \u001b[43m                \u001b[49m\u001b[38;5;66;43;03m# these options are set when running in line magic mode\u001b[39;49;00m\n\u001b[0;32m    353\u001b[0m \u001b[43m                \u001b[49m\u001b[38;5;66;43;03m# set a non None algo text to use the ipython user_ns\u001b[39;49;00m\n\u001b[0;32m    354\u001b[0m \u001b[43m                \u001b[49m\u001b[38;5;124;43m\"\u001b[39;49m\u001b[38;5;124;43m--algotext\u001b[39;49m\u001b[38;5;124;43m\"\u001b[39;49m\u001b[43m,\u001b[49m\n\u001b[0;32m    355\u001b[0m \u001b[43m                \u001b[49m\u001b[38;5;124;43m\"\u001b[39;49m\u001b[38;5;124;43m\"\u001b[39;49m\u001b[43m,\u001b[49m\n\u001b[0;32m    356\u001b[0m \u001b[43m                \u001b[49m\u001b[38;5;124;43m\"\u001b[39;49m\u001b[38;5;124;43m--local-namespace\u001b[39;49m\u001b[38;5;124;43m\"\u001b[39;49m\u001b[43m,\u001b[49m\n\u001b[0;32m    357\u001b[0m \u001b[43m            \u001b[49m\u001b[43m]\u001b[49m\n\u001b[0;32m    358\u001b[0m \u001b[43m            \u001b[49m\u001b[38;5;28;43;01mif\u001b[39;49;00m\u001b[43m \u001b[49m\u001b[43mcell\u001b[49m\u001b[43m \u001b[49m\u001b[38;5;129;43;01mis\u001b[39;49;00m\u001b[43m \u001b[49m\u001b[38;5;28;43;01mNone\u001b[39;49;00m\n\u001b[0;32m    359\u001b[0m \u001b[43m            \u001b[49m\u001b[38;5;28;43;01melse\u001b[39;49;00m\u001b[43m \u001b[49m\u001b[43m[\u001b[49m\u001b[43m]\u001b[49m\n\u001b[0;32m    360\u001b[0m \u001b[43m        \u001b[49m\u001b[43m)\u001b[49m\n\u001b[0;32m    361\u001b[0m \u001b[43m        \u001b[49m\u001b[38;5;241;43m+\u001b[39;49m\u001b[43m \u001b[49m\u001b[43mline\u001b[49m\u001b[38;5;241;43m.\u001b[39;49m\u001b[43msplit\u001b[49m\u001b[43m(\u001b[49m\u001b[43m)\u001b[49m\u001b[43m,\u001b[49m\n\u001b[0;32m    362\u001b[0m \u001b[43m        \u001b[49m\u001b[38;5;124;43m\"\u001b[39;49m\u001b[38;5;132;43;01m%s\u001b[39;49;00m\u001b[38;5;132;43;01m%%\u001b[39;49;00m\u001b[38;5;124;43mzipline\u001b[39;49m\u001b[38;5;124;43m\"\u001b[39;49m\u001b[43m \u001b[49m\u001b[38;5;241;43m%\u001b[39;49m\u001b[43m \u001b[49m\u001b[43m(\u001b[49m\u001b[43m(\u001b[49m\u001b[43mcell\u001b[49m\u001b[43m \u001b[49m\u001b[38;5;129;43;01mor\u001b[39;49;00m\u001b[43m \u001b[49m\u001b[38;5;124;43m\"\u001b[39;49m\u001b[38;5;124;43m\"\u001b[39;49m\u001b[43m)\u001b[49m\u001b[43m \u001b[49m\u001b[38;5;129;43;01mand\u001b[39;49;00m\u001b[43m \u001b[49m\u001b[38;5;124;43m\"\u001b[39;49m\u001b[38;5;124;43m%\u001b[39;49m\u001b[38;5;124;43m\"\u001b[39;49m\u001b[43m)\u001b[49m\u001b[43m,\u001b[49m\n\u001b[0;32m    363\u001b[0m \u001b[43m        \u001b[49m\u001b[38;5;66;43;03m# don't use system exit and propogate errors to the caller\u001b[39;49;00m\n\u001b[0;32m    364\u001b[0m \u001b[43m        \u001b[49m\u001b[43mstandalone_mode\u001b[49m\u001b[38;5;241;43m=\u001b[39;49m\u001b[38;5;28;43;01mFalse\u001b[39;49;00m\u001b[43m,\u001b[49m\n\u001b[0;32m    365\u001b[0m \u001b[43m    \u001b[49m\u001b[43m)\u001b[49m\n\u001b[0;32m    366\u001b[0m \u001b[38;5;28;01mexcept\u001b[39;00m \u001b[38;5;167;01mSystemExit\u001b[39;00m \u001b[38;5;28;01mas\u001b[39;00m exc:\n\u001b[0;32m    367\u001b[0m     \u001b[38;5;66;03m# https://github.com/mitsuhiko/click/pull/533\u001b[39;00m\n\u001b[0;32m    368\u001b[0m     \u001b[38;5;66;03m# even in standalone_mode=False `--help` really wants to kill us ;_;\u001b[39;00m\n\u001b[0;32m    369\u001b[0m     \u001b[38;5;28;01mif\u001b[39;00m exc\u001b[38;5;241m.\u001b[39mcode:\n",
      "File \u001b[1;32mC:\\Users\\pthon\\anaconda3\\envs\\ta_env\\lib\\site-packages\\click\\core.py:1078\u001b[0m, in \u001b[0;36mBaseCommand.main\u001b[1;34m(self, args, prog_name, complete_var, standalone_mode, windows_expand_args, **extra)\u001b[0m\n\u001b[0;32m   1076\u001b[0m \u001b[38;5;28;01mtry\u001b[39;00m:\n\u001b[0;32m   1077\u001b[0m     \u001b[38;5;28;01mwith\u001b[39;00m \u001b[38;5;28mself\u001b[39m\u001b[38;5;241m.\u001b[39mmake_context(prog_name, args, \u001b[38;5;241m*\u001b[39m\u001b[38;5;241m*\u001b[39mextra) \u001b[38;5;28;01mas\u001b[39;00m ctx:\n\u001b[1;32m-> 1078\u001b[0m         rv \u001b[38;5;241m=\u001b[39m \u001b[38;5;28;43mself\u001b[39;49m\u001b[38;5;241;43m.\u001b[39;49m\u001b[43minvoke\u001b[49m\u001b[43m(\u001b[49m\u001b[43mctx\u001b[49m\u001b[43m)\u001b[49m\n\u001b[0;32m   1079\u001b[0m         \u001b[38;5;28;01mif\u001b[39;00m \u001b[38;5;129;01mnot\u001b[39;00m standalone_mode:\n\u001b[0;32m   1080\u001b[0m             \u001b[38;5;28;01mreturn\u001b[39;00m rv\n",
      "File \u001b[1;32mC:\\Users\\pthon\\anaconda3\\envs\\ta_env\\lib\\site-packages\\click\\core.py:1434\u001b[0m, in \u001b[0;36mCommand.invoke\u001b[1;34m(self, ctx)\u001b[0m\n\u001b[0;32m   1431\u001b[0m     echo(style(message, fg\u001b[38;5;241m=\u001b[39m\u001b[38;5;124m\"\u001b[39m\u001b[38;5;124mred\u001b[39m\u001b[38;5;124m\"\u001b[39m), err\u001b[38;5;241m=\u001b[39m\u001b[38;5;28;01mTrue\u001b[39;00m)\n\u001b[0;32m   1433\u001b[0m \u001b[38;5;28;01mif\u001b[39;00m \u001b[38;5;28mself\u001b[39m\u001b[38;5;241m.\u001b[39mcallback \u001b[38;5;129;01mis\u001b[39;00m \u001b[38;5;129;01mnot\u001b[39;00m \u001b[38;5;28;01mNone\u001b[39;00m:\n\u001b[1;32m-> 1434\u001b[0m     \u001b[38;5;28;01mreturn\u001b[39;00m ctx\u001b[38;5;241m.\u001b[39minvoke(\u001b[38;5;28mself\u001b[39m\u001b[38;5;241m.\u001b[39mcallback, \u001b[38;5;241m*\u001b[39m\u001b[38;5;241m*\u001b[39mctx\u001b[38;5;241m.\u001b[39mparams)\n",
      "File \u001b[1;32mC:\\Users\\pthon\\anaconda3\\envs\\ta_env\\lib\\site-packages\\click\\core.py:783\u001b[0m, in \u001b[0;36mContext.invoke\u001b[1;34m(_Context__self, _Context__callback, *args, **kwargs)\u001b[0m\n\u001b[0;32m    781\u001b[0m \u001b[38;5;28;01mwith\u001b[39;00m augment_usage_errors(__self):\n\u001b[0;32m    782\u001b[0m     \u001b[38;5;28;01mwith\u001b[39;00m ctx:\n\u001b[1;32m--> 783\u001b[0m         \u001b[38;5;28;01mreturn\u001b[39;00m __callback(\u001b[38;5;241m*\u001b[39margs, \u001b[38;5;241m*\u001b[39m\u001b[38;5;241m*\u001b[39mkwargs)\n",
      "File \u001b[1;32mC:\\Users\\pthon\\anaconda3\\envs\\ta_env\\lib\\site-packages\\click\\decorators.py:33\u001b[0m, in \u001b[0;36mpass_context.<locals>.new_func\u001b[1;34m(*args, **kwargs)\u001b[0m\n\u001b[0;32m     32\u001b[0m \u001b[38;5;28;01mdef\u001b[39;00m \u001b[38;5;21mnew_func\u001b[39m(\u001b[38;5;241m*\u001b[39margs: \u001b[38;5;124m\"\u001b[39m\u001b[38;5;124mP.args\u001b[39m\u001b[38;5;124m\"\u001b[39m, \u001b[38;5;241m*\u001b[39m\u001b[38;5;241m*\u001b[39mkwargs: \u001b[38;5;124m\"\u001b[39m\u001b[38;5;124mP.kwargs\u001b[39m\u001b[38;5;124m\"\u001b[39m) \u001b[38;5;241m-\u001b[39m\u001b[38;5;241m>\u001b[39m \u001b[38;5;124m\"\u001b[39m\u001b[38;5;124mR\u001b[39m\u001b[38;5;124m\"\u001b[39m:\n\u001b[1;32m---> 33\u001b[0m     \u001b[38;5;28;01mreturn\u001b[39;00m f(get_current_context(), \u001b[38;5;241m*\u001b[39margs, \u001b[38;5;241m*\u001b[39m\u001b[38;5;241m*\u001b[39mkwargs)\n",
      "File \u001b[1;32mC:\\Users\\pthon\\anaconda3\\envs\\ta_env\\lib\\site-packages\\zipline\\__main__.py:306\u001b[0m, in \u001b[0;36mrun\u001b[1;34m(ctx, algofile, algotext, define, data_frequency, capital_base, bundle, bundle_timestamp, benchmark_file, benchmark_symbol, benchmark_sid, no_benchmark, start, end, output, trading_calendar, print_algo, metrics_set, local_namespace, blotter)\u001b[0m\n\u001b[0;32m    297\u001b[0m trading_calendar \u001b[38;5;241m=\u001b[39m get_calendar(trading_calendar)\n\u001b[0;32m    299\u001b[0m benchmark_spec \u001b[38;5;241m=\u001b[39m BenchmarkSpec\u001b[38;5;241m.\u001b[39mfrom_cli_params(\n\u001b[0;32m    300\u001b[0m     no_benchmark\u001b[38;5;241m=\u001b[39mno_benchmark,\n\u001b[0;32m    301\u001b[0m     benchmark_sid\u001b[38;5;241m=\u001b[39mbenchmark_sid,\n\u001b[0;32m    302\u001b[0m     benchmark_symbol\u001b[38;5;241m=\u001b[39mbenchmark_symbol,\n\u001b[0;32m    303\u001b[0m     benchmark_file\u001b[38;5;241m=\u001b[39mbenchmark_file,\n\u001b[0;32m    304\u001b[0m )\n\u001b[1;32m--> 306\u001b[0m \u001b[38;5;28;01mreturn\u001b[39;00m \u001b[43m_run\u001b[49m\u001b[43m(\u001b[49m\n\u001b[0;32m    307\u001b[0m \u001b[43m    \u001b[49m\u001b[43minitialize\u001b[49m\u001b[38;5;241;43m=\u001b[39;49m\u001b[38;5;28;43;01mNone\u001b[39;49;00m\u001b[43m,\u001b[49m\n\u001b[0;32m    308\u001b[0m \u001b[43m    \u001b[49m\u001b[43mhandle_data\u001b[49m\u001b[38;5;241;43m=\u001b[39;49m\u001b[38;5;28;43;01mNone\u001b[39;49;00m\u001b[43m,\u001b[49m\n\u001b[0;32m    309\u001b[0m \u001b[43m    \u001b[49m\u001b[43mbefore_trading_start\u001b[49m\u001b[38;5;241;43m=\u001b[39;49m\u001b[38;5;28;43;01mNone\u001b[39;49;00m\u001b[43m,\u001b[49m\n\u001b[0;32m    310\u001b[0m \u001b[43m    \u001b[49m\u001b[43manalyze\u001b[49m\u001b[38;5;241;43m=\u001b[39;49m\u001b[38;5;28;43;01mNone\u001b[39;49;00m\u001b[43m,\u001b[49m\n\u001b[0;32m    311\u001b[0m \u001b[43m    \u001b[49m\u001b[43malgofile\u001b[49m\u001b[38;5;241;43m=\u001b[39;49m\u001b[43malgofile\u001b[49m\u001b[43m,\u001b[49m\n\u001b[0;32m    312\u001b[0m \u001b[43m    \u001b[49m\u001b[43malgotext\u001b[49m\u001b[38;5;241;43m=\u001b[39;49m\u001b[43malgotext\u001b[49m\u001b[43m,\u001b[49m\n\u001b[0;32m    313\u001b[0m \u001b[43m    \u001b[49m\u001b[43mdefines\u001b[49m\u001b[38;5;241;43m=\u001b[39;49m\u001b[43mdefine\u001b[49m\u001b[43m,\u001b[49m\n\u001b[0;32m    314\u001b[0m \u001b[43m    \u001b[49m\u001b[43mdata_frequency\u001b[49m\u001b[38;5;241;43m=\u001b[39;49m\u001b[43mdata_frequency\u001b[49m\u001b[43m,\u001b[49m\n\u001b[0;32m    315\u001b[0m \u001b[43m    \u001b[49m\u001b[43mcapital_base\u001b[49m\u001b[38;5;241;43m=\u001b[39;49m\u001b[43mcapital_base\u001b[49m\u001b[43m,\u001b[49m\n\u001b[0;32m    316\u001b[0m \u001b[43m    \u001b[49m\u001b[43mbundle\u001b[49m\u001b[38;5;241;43m=\u001b[39;49m\u001b[43mbundle\u001b[49m\u001b[43m,\u001b[49m\n\u001b[0;32m    317\u001b[0m \u001b[43m    \u001b[49m\u001b[43mbundle_timestamp\u001b[49m\u001b[38;5;241;43m=\u001b[39;49m\u001b[43mbundle_timestamp\u001b[49m\u001b[43m,\u001b[49m\n\u001b[0;32m    318\u001b[0m \u001b[43m    \u001b[49m\u001b[43mstart\u001b[49m\u001b[38;5;241;43m=\u001b[39;49m\u001b[43mstart\u001b[49m\u001b[43m,\u001b[49m\n\u001b[0;32m    319\u001b[0m \u001b[43m    \u001b[49m\u001b[43mend\u001b[49m\u001b[38;5;241;43m=\u001b[39;49m\u001b[43mend\u001b[49m\u001b[43m,\u001b[49m\n\u001b[0;32m    320\u001b[0m \u001b[43m    \u001b[49m\u001b[43moutput\u001b[49m\u001b[38;5;241;43m=\u001b[39;49m\u001b[43moutput\u001b[49m\u001b[43m,\u001b[49m\n\u001b[0;32m    321\u001b[0m \u001b[43m    \u001b[49m\u001b[43mtrading_calendar\u001b[49m\u001b[38;5;241;43m=\u001b[39;49m\u001b[43mtrading_calendar\u001b[49m\u001b[43m,\u001b[49m\n\u001b[0;32m    322\u001b[0m \u001b[43m    \u001b[49m\u001b[43mprint_algo\u001b[49m\u001b[38;5;241;43m=\u001b[39;49m\u001b[43mprint_algo\u001b[49m\u001b[43m,\u001b[49m\n\u001b[0;32m    323\u001b[0m \u001b[43m    \u001b[49m\u001b[43mmetrics_set\u001b[49m\u001b[38;5;241;43m=\u001b[39;49m\u001b[43mmetrics_set\u001b[49m\u001b[43m,\u001b[49m\n\u001b[0;32m    324\u001b[0m \u001b[43m    \u001b[49m\u001b[43mlocal_namespace\u001b[49m\u001b[38;5;241;43m=\u001b[39;49m\u001b[43mlocal_namespace\u001b[49m\u001b[43m,\u001b[49m\n\u001b[0;32m    325\u001b[0m \u001b[43m    \u001b[49m\u001b[43menviron\u001b[49m\u001b[38;5;241;43m=\u001b[39;49m\u001b[43mos\u001b[49m\u001b[38;5;241;43m.\u001b[39;49m\u001b[43menviron\u001b[49m\u001b[43m,\u001b[49m\n\u001b[0;32m    326\u001b[0m \u001b[43m    \u001b[49m\u001b[43mblotter\u001b[49m\u001b[38;5;241;43m=\u001b[39;49m\u001b[43mblotter\u001b[49m\u001b[43m,\u001b[49m\n\u001b[0;32m    327\u001b[0m \u001b[43m    \u001b[49m\u001b[43mbenchmark_spec\u001b[49m\u001b[38;5;241;43m=\u001b[39;49m\u001b[43mbenchmark_spec\u001b[49m\u001b[43m,\u001b[49m\n\u001b[0;32m    328\u001b[0m \u001b[43m    \u001b[49m\u001b[43mcustom_loader\u001b[49m\u001b[38;5;241;43m=\u001b[39;49m\u001b[38;5;28;43;01mNone\u001b[39;49;00m\u001b[43m,\u001b[49m\n\u001b[0;32m    329\u001b[0m \u001b[43m\u001b[49m\u001b[43m)\u001b[49m\n",
      "File \u001b[1;32mC:\\Users\\pthon\\anaconda3\\envs\\ta_env\\lib\\site-packages\\zipline\\utils\\run_algo.py:93\u001b[0m, in \u001b[0;36m_run\u001b[1;34m(handle_data, initialize, before_trading_start, analyze, algofile, algotext, defines, data_frequency, capital_base, bundle, bundle_timestamp, start, end, output, trading_calendar, print_algo, metrics_set, local_namespace, environ, blotter, custom_loader, benchmark_spec)\u001b[0m\n\u001b[0;32m     64\u001b[0m \u001b[38;5;28;01mdef\u001b[39;00m \u001b[38;5;21m_run\u001b[39m(\n\u001b[0;32m     65\u001b[0m     handle_data,\n\u001b[0;32m     66\u001b[0m     initialize,\n\u001b[1;32m   (...)\u001b[0m\n\u001b[0;32m     86\u001b[0m     benchmark_spec,\n\u001b[0;32m     87\u001b[0m ):\n\u001b[0;32m     88\u001b[0m \u001b[38;5;250m    \u001b[39m\u001b[38;5;124;03m\"\"\"Run a backtest for the given algorithm.\u001b[39;00m\n\u001b[0;32m     89\u001b[0m \n\u001b[0;32m     90\u001b[0m \u001b[38;5;124;03m    This is shared between the cli and :func:`zipline.run_algo`.\u001b[39;00m\n\u001b[0;32m     91\u001b[0m \u001b[38;5;124;03m    \"\"\"\u001b[39;00m\n\u001b[1;32m---> 93\u001b[0m     bundle_data \u001b[38;5;241m=\u001b[39m \u001b[43mbundles\u001b[49m\u001b[38;5;241;43m.\u001b[39;49m\u001b[43mload\u001b[49m\u001b[43m(\u001b[49m\n\u001b[0;32m     94\u001b[0m \u001b[43m        \u001b[49m\u001b[43mbundle\u001b[49m\u001b[43m,\u001b[49m\n\u001b[0;32m     95\u001b[0m \u001b[43m        \u001b[49m\u001b[43menviron\u001b[49m\u001b[43m,\u001b[49m\n\u001b[0;32m     96\u001b[0m \u001b[43m        \u001b[49m\u001b[43mbundle_timestamp\u001b[49m\u001b[43m,\u001b[49m\n\u001b[0;32m     97\u001b[0m \u001b[43m    \u001b[49m\u001b[43m)\u001b[49m\n\u001b[0;32m     99\u001b[0m     \u001b[38;5;28;01mif\u001b[39;00m trading_calendar \u001b[38;5;129;01mis\u001b[39;00m \u001b[38;5;28;01mNone\u001b[39;00m:\n\u001b[0;32m    100\u001b[0m         trading_calendar \u001b[38;5;241m=\u001b[39m get_calendar(\u001b[38;5;124m\"\u001b[39m\u001b[38;5;124mXNYS\u001b[39m\u001b[38;5;124m\"\u001b[39m)\n",
      "File \u001b[1;32mC:\\Users\\pthon\\anaconda3\\envs\\ta_env\\lib\\site-packages\\zipline\\data\\bundles\\core.py:532\u001b[0m, in \u001b[0;36m_make_bundle_core.<locals>.load\u001b[1;34m(name, environ, timestamp)\u001b[0m\n\u001b[0;32m    530\u001b[0m \u001b[38;5;28;01mif\u001b[39;00m timestamp \u001b[38;5;129;01mis\u001b[39;00m \u001b[38;5;28;01mNone\u001b[39;00m:\n\u001b[0;32m    531\u001b[0m     timestamp \u001b[38;5;241m=\u001b[39m pd\u001b[38;5;241m.\u001b[39mTimestamp\u001b[38;5;241m.\u001b[39mutcnow()\n\u001b[1;32m--> 532\u001b[0m timestr \u001b[38;5;241m=\u001b[39m \u001b[43mmost_recent_data\u001b[49m\u001b[43m(\u001b[49m\u001b[43mname\u001b[49m\u001b[43m,\u001b[49m\u001b[43m \u001b[49m\u001b[43mtimestamp\u001b[49m\u001b[43m,\u001b[49m\u001b[43m \u001b[49m\u001b[43menviron\u001b[49m\u001b[38;5;241;43m=\u001b[39;49m\u001b[43menviron\u001b[49m\u001b[43m)\u001b[49m\n\u001b[0;32m    533\u001b[0m \u001b[38;5;28;01mreturn\u001b[39;00m BundleData(\n\u001b[0;32m    534\u001b[0m     asset_finder\u001b[38;5;241m=\u001b[39mAssetFinder(\n\u001b[0;32m    535\u001b[0m         asset_db_path(name, timestr, environ\u001b[38;5;241m=\u001b[39menviron),\n\u001b[1;32m   (...)\u001b[0m\n\u001b[0;32m    545\u001b[0m     ),\n\u001b[0;32m    546\u001b[0m )\n",
      "File \u001b[1;32mC:\\Users\\pthon\\anaconda3\\envs\\ta_env\\lib\\site-packages\\zipline\\data\\bundles\\core.py:485\u001b[0m, in \u001b[0;36m_make_bundle_core.<locals>.most_recent_data\u001b[1;34m(bundle_name, timestamp, environ)\u001b[0m\n\u001b[0;32m    472\u001b[0m \u001b[38;5;250m\u001b[39m\u001b[38;5;124;03m\"\"\"Get the path to the most recent data after ``date``for the\u001b[39;00m\n\u001b[0;32m    473\u001b[0m \u001b[38;5;124;03mgiven bundle.\u001b[39;00m\n\u001b[0;32m    474\u001b[0m \n\u001b[1;32m   (...)\u001b[0m\n\u001b[0;32m    482\u001b[0m \u001b[38;5;124;03m    An environment dict to forward to zipline_root.\u001b[39;00m\n\u001b[0;32m    483\u001b[0m \u001b[38;5;124;03m\"\"\"\u001b[39;00m\n\u001b[0;32m    484\u001b[0m \u001b[38;5;28;01mif\u001b[39;00m bundle_name \u001b[38;5;129;01mnot\u001b[39;00m \u001b[38;5;129;01min\u001b[39;00m bundles:\n\u001b[1;32m--> 485\u001b[0m     \u001b[38;5;28;01mraise\u001b[39;00m UnknownBundle(bundle_name)\n\u001b[0;32m    487\u001b[0m \u001b[38;5;28;01mtry\u001b[39;00m:\n\u001b[0;32m    488\u001b[0m     candidates \u001b[38;5;241m=\u001b[39m os\u001b[38;5;241m.\u001b[39mlistdir(\n\u001b[0;32m    489\u001b[0m         pth\u001b[38;5;241m.\u001b[39mdata_path([bundle_name], environ\u001b[38;5;241m=\u001b[39menviron),\n\u001b[0;32m    490\u001b[0m     )\n",
      "\u001b[1;31mUnknownBundle\u001b[0m: No bundle registered with the name 'equity-bundle'"
     ]
    }
   ],
   "source": [
    "\n",
    "%%zipline --start 2023-01-01 --end 2023-12-10 --output single_factor.pickle --no-benchmark --bundle equity-bundle\n",
    "#start=\"2023-01-01\", end=\"2023-12-10\"\n",
    "from zipline.api import (\n",
    "    attach_pipeline,\n",
    "    date_rules,\n",
    "    time_rules,\n",
    "    order_target_percent,\n",
    "    pipeline_output,\n",
    "    record,\n",
    "    schedule_function,\n",
    "    get_open_orders,\n",
    "    calendars\n",
    ")\n",
    "from zipline.finance import commission, slippage\n",
    "from zipline.pipeline import Pipeline, CustomFactor\n",
    "from zipline.pipeline.factors import Returns, AverageDollarVolume\n",
    "import numpy as np\n",
    "import pandas as pd\n",
    "\n",
    "MONTH = 21\n",
    "YEAR = 12 * MONTH\n",
    "N_LONGS = N_SHORTS = 25\n",
    "VOL_SCREEN = 1000\n",
    "\n",
    "class MeanReversion(CustomFactor):\n",
    "    \"\"\"Compute ratio of latest monthly return to 12m average,\n",
    "       normalized by std dev of monthly returns\"\"\"\n",
    "    inputs = [Returns(window_length=MONTH)]\n",
    "    window_length = YEAR\n",
    "\n",
    "    def compute(self, today, assets, out, monthly_returns):\n",
    "        df = pd.DataFrame(monthly_returns)\n",
    "        out[:] = df.iloc[-1].sub(df.mean()).div(df.std())\n",
    "\n",
    "\n",
    "def compute_factors():\n",
    "    \"\"\"Create factor pipeline incl. mean reversion,\n",
    "        filtered by 30d Dollar Volume; capture factor ranks\"\"\"\n",
    "    mean_reversion = MeanReversion()\n",
    "    dollar_volume = AverageDollarVolume(window_length=30)\n",
    "    return Pipeline(columns={'longs': mean_reversion.bottom(N_LONGS),\n",
    "                             'shorts': mean_reversion.top(N_SHORTS),\n",
    "                             'ranking': mean_reversion.rank(ascending=False)},\n",
    "                    screen=dollar_volume.top(VOL_SCREEN))\n",
    "\n",
    "\n",
    "def exec_trades(data, assets, target_percent):\n",
    "    \"\"\"Place orders for assets using target portfolio percentage\"\"\"\n",
    "    for asset in assets:\n",
    "        if data.can_trade(asset) and not get_open_orders(asset):\n",
    "            order_target_percent(asset, target_percent)\n",
    "\n",
    "\n",
    "def rebalance(context, data):\n",
    "    \"\"\"Compute long, short and obsolete holdings; place trade orders\"\"\"\n",
    "    factor_data = context.factor_data\n",
    "    record(factor_data=factor_data.ranking)\n",
    "\n",
    "    assets = factor_data.index\n",
    "    record(prices=data.current(assets, 'price'))\n",
    "\n",
    "    longs = assets[factor_data.longs]\n",
    "    shorts = assets[factor_data.shorts]\n",
    "    divest = set(context.portfolio.positions.keys()) - set(longs.union(shorts))\n",
    "\n",
    "    exec_trades(data, assets=divest, target_percent=0)\n",
    "    exec_trades(data, assets=longs, target_percent=1 / N_LONGS)\n",
    "    exec_trades(data, assets=shorts, target_percent=-1 / N_SHORTS)\n",
    "\n",
    "\n",
    "def initialize(context):\n",
    "    \"\"\"Setup: register pipeline, schedule rebalancing,\n",
    "        and set trading params\"\"\"\n",
    "    attach_pipeline(compute_factors(), 'factor_pipeline')\n",
    "    schedule_function(rebalance,\n",
    "                      date_rules.week_start(),\n",
    "                      time_rules.market_open(),\n",
    "                      calendar=calendars.US_EQUITIES)\n",
    "    context.set_commission(commission.PerShare(cost=.01, min_trade_cost=0))\n",
    "    context.set_slippage(slippage.VolumeShareSlippage())\n",
    "\n",
    "\n",
    "def before_trading_start(context, data):\n",
    "    \"\"\"Run factor pipeline\"\"\"\n",
    "    context.factor_data = pipeline_output('factor_pipeline')"
   ]
  },
  {
   "cell_type": "code",
   "execution_count": null,
   "id": "812256de-545a-46b7-8030-1ea6355d5eb5",
   "metadata": {},
   "outputs": [],
   "source": []
  }
 ],
 "metadata": {
  "kernelspec": {
   "display_name": "Python 3 (ipykernel)",
   "language": "python",
   "name": "python3"
  },
  "language_info": {
   "codemirror_mode": {
    "name": "ipython",
    "version": 3
   },
   "file_extension": ".py",
   "mimetype": "text/x-python",
   "name": "python",
   "nbconvert_exporter": "python",
   "pygments_lexer": "ipython3",
   "version": "3.10.13"
  }
 },
 "nbformat": 4,
 "nbformat_minor": 5
}
