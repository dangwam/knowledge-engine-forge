{
 "cells": [
  {
   "cell_type": "code",
   "execution_count": 9,
   "id": "a2d48da0-ff7b-45b8-b1da-71f383b07593",
   "metadata": {},
   "outputs": [
    {
     "name": "stdout",
     "output_type": "stream",
     "text": [
      "[*********************100%***********************]  9 of 9 completed\n"
     ]
    }
   ],
   "source": [
    "import pandas as pd\n",
    "import os, xlsxwriter\n",
    "from datetime import datetime\n",
    "import yfinance as yf\n",
    "import matplotlib.pyplot as plt\n",
    "from scipy.stats import zscore\n",
    "import seaborn as sns\n",
    "\n",
    "### download data using yfinance\n",
    "base_folder_path = r\"C:\\Users\\pythonProject\\data\\data_produced\"\n",
    "start_date  = \"2015-01-01\"\n",
    "end_date  = \"2024-01-18\"\n",
    "read_flag = 'Y'\n",
    "\n",
    "stocks = ['XLK', 'XLB', 'XLI', 'XLE', 'XLV', 'XLY', 'XLF', 'XLU', 'XLP']\n",
    "\n",
    "formatted_end_date = datetime.strptime(end_date, \"%Y-%m-%d\").strftime(\"%Y%m%d\")\n",
    "arg1 = 'industry'\n",
    "subfolder_name = \"ml4t\"\n",
    "folder_path = os.path.join(base_folder_path, subfolder_name)\n",
    "# build the file name\n",
    "file_name_suffix = arg1 + '_yf_data.xlsx'\n",
    "\n",
    "full_file_name = f\"{formatted_end_date}_{file_name_suffix}\"\n",
    "\n",
    "#os.makedirs(folder_path, exist_ok=True)\n",
    "# Specify the Excel file path\n",
    "excel_file_path = os.path.join(folder_path, full_file_name)\n",
    "\n",
    " \n",
    "if read_flag == 'Y': ## download data from yfinance ::Open,High,Low,Close,Adj Close,Volume are the data column names\n",
    "        data = yf.download(stocks, start=start_date, end=end_date).dropna()\n",
    "        data_close = data['Adj Close']\n",
    "        df_relative = data_close / data_close.iloc[0] * 100\n",
    "        #f_relative = data_close.sort_values(by='Adj Close', ascending=False) / data_close.iloc[0] * 100\n",
    "        #data.to_excel(excel_file_path, index=True, sheet_name=arg1)\n",
    "        with pd.ExcelWriter(excel_file_path, engine='xlsxwriter') as writer:\n",
    "             # Write each DataFrame to a different sheet\n",
    "             data.to_excel(writer, sheet_name='industry', index=True)\n",
    "             data_close.to_excel(writer, sheet_name='adj_close_price', index=True)\n",
    "             df_relative.to_excel(writer, sheet_name='relative_price', index=True)\n",
    "else:\n",
    "        ## read data from the file\n",
    "        data = pd.read_excel(excel_file_path,sheet_name=\"industry\",index=True)\n",
    "    # Step 2: Extract information about the MultiIndex\n",
    "            \n"
   ]
  },
  {
   "cell_type": "code",
   "execution_count": 21,
   "id": "41c8bb26",
   "metadata": {},
   "outputs": [],
   "source": [
    "csv_file_suffix = arg1 + '_yf_data.csv'\n",
    "csv_file_name = f\"{formatted_end_date}_{csv_file_suffix}\"\n",
    "csv_file_path = os.path.join(folder_path, csv_file_name)\n",
    "\n",
    "data_close.to_csv(csv_file_path)\n"
   ]
  },
  {
   "cell_type": "code",
   "execution_count": 23,
   "id": "5f486c41-73b2-491b-b36f-928f5652df9c",
   "metadata": {},
   "outputs": [
    {
     "data": {
      "text/plain": [
       "'C:\\\\Users\\\\pythonProject\\\\data\\\\data_produced\\\\ml4t\\\\20240118_industry_yf_data.csv'"
      ]
     },
     "execution_count": 23,
     "metadata": {},
     "output_type": "execute_result"
    }
   ],
   "source": [
    "csv_file_path"
   ]
  },
  {
   "cell_type": "code",
   "execution_count": null,
   "id": "5127219c-8d9d-47f4-a782-f468a8b41180",
   "metadata": {},
   "outputs": [],
   "source": []
  }
 ],
 "metadata": {
  "kernelspec": {
   "display_name": "Python 3 (ipykernel)",
   "language": "python",
   "name": "python3"
  },
  "language_info": {
   "codemirror_mode": {
    "name": "ipython",
    "version": 3
   },
   "file_extension": ".py",
   "mimetype": "text/x-python",
   "name": "python",
   "nbconvert_exporter": "python",
   "pygments_lexer": "ipython3",
   "version": "3.8.13"
  }
 },
 "nbformat": 4,
 "nbformat_minor": 5
}
