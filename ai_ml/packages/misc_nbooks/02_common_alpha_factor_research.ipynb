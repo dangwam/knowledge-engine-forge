{
 "cells": [
  {
   "cell_type": "code",
   "execution_count": 2,
   "id": "eee55b70-eb2b-44d8-9ce2-f2dbda4255e5",
   "metadata": {},
   "outputs": [
    {
     "ename": "ModuleNotFoundError",
     "evalue": "No module named 'alpaca'",
     "output_type": "error",
     "traceback": [
      "\u001b[1;31m---------------------------------------------------------------------------\u001b[0m",
      "\u001b[1;31mModuleNotFoundError\u001b[0m                       Traceback (most recent call last)",
      "Cell \u001b[1;32mIn[2], line 3\u001b[0m\n\u001b[0;32m      1\u001b[0m \u001b[38;5;66;03m##### Testing for connectivity\u001b[39;00m\n\u001b[0;32m      2\u001b[0m \u001b[38;5;28;01mimport\u001b[39;00m \u001b[38;5;21;01mpandas\u001b[39;00m \u001b[38;5;28;01mas\u001b[39;00m \u001b[38;5;21;01mpd\u001b[39;00m\n\u001b[1;32m----> 3\u001b[0m \u001b[38;5;28;01mfrom\u001b[39;00m \u001b[38;5;21;01malpaca\u001b[39;00m\u001b[38;5;21;01m.\u001b[39;00m\u001b[38;5;21;01mdata\u001b[39;00m \u001b[38;5;28;01mimport\u001b[39;00m StockHistoricalDataClient, TimeFrame\n\u001b[0;32m      4\u001b[0m \u001b[38;5;28;01mfrom\u001b[39;00m \u001b[38;5;21;01malpaca\u001b[39;00m\u001b[38;5;21;01m.\u001b[39;00m\u001b[38;5;21;01mdata\u001b[39;00m\u001b[38;5;21;01m.\u001b[39;00m\u001b[38;5;21;01mrequests\u001b[39;00m \u001b[38;5;28;01mimport\u001b[39;00m StockQuotesRequest, StockBarsRequest\n\u001b[0;32m      5\u001b[0m \u001b[38;5;28;01mfrom\u001b[39;00m \u001b[38;5;21;01malpaca\u001b[39;00m\u001b[38;5;21;01m.\u001b[39;00m\u001b[38;5;21;01mdata\u001b[39;00m\u001b[38;5;21;01m.\u001b[39;00m\u001b[38;5;21;01mrequests\u001b[39;00m \u001b[38;5;28;01mimport\u001b[39;00m StockLatestQuoteRequest\n",
      "\u001b[1;31mModuleNotFoundError\u001b[0m: No module named 'alpaca'"
     ]
    }
   ],
   "source": [
    "##### Testing for connectivity\n",
    "import pandas as pd\n",
    "from alpaca.data import StockHistoricalDataClient, TimeFrame\n",
    "from alpaca.data.requests import StockQuotesRequest, StockBarsRequest\n",
    "from alpaca.data.requests import StockLatestQuoteRequest\n",
    "#from alpaca_data.historical import StockLevel2Client\n",
    "# authentication and connection details\n",
    "ALPACA_API_KEY_ID = 'AKUTKY5V16DQ533MCM95'\n",
    "ALPACA_API_SECRET_KEY  = 'lusSAgoBe63lD7BI3EZA74LrGMTUeR6dD5I67DeV'\n",
    "base_url = 'https://api.alpaca.markets'\n",
    "\n",
    "# Instantiate a data client\n",
    "data_client = StockHistoricalDataClient(ALPACA_API_KEY_ID, ALPACA_API_SECRET_KEY)\n",
    "\n",
    "# Set the start time\n",
    "start_time = pd.to_datetime(\"2023-11-10\").tz_localize('America/New_York')\n",
    "end_time = pd.to_datetime(\"2023-11-28\").tz_localize('America/New_York')\n",
    "\n",
    "# It's generally best to explicitly provide an end time but will default to 'now' if not\n",
    "request_params = StockBarsRequest(\n",
    "    symbol_or_symbols=['RIVN'],\n",
    "    timeframe=TimeFrame.Day,\n",
    "    start=start_time,\n",
    "    end=end_time\n",
    "    )\n",
    "\n",
    "bars_df = data_client.get_stock_bars(request_params).df.tz_convert('America/New_York', level=1)\n",
    "bars_df\n",
    "\n",
    "qstart_time = pd.to_datetime(\"2023-11-28 11:59:00\").tz_localize('America/New_York')\n",
    "qend_time = pd.to_datetime(\"2023-11-28 11:59:30\").tz_localize('America/New_York')\n",
    "\n",
    "request_params = StockQuotesRequest(\n",
    "    symbol_or_symbols='SPY',\n",
    "    start=qstart_time,\n",
    "    end=qend_time,\n",
    "    )\n",
    "\n",
    "quote_df = data_client.get_stock_quotes(request_params).df.tz_convert('America/New_York', level=1)\n"
   ]
  },
  {
   "cell_type": "markdown",
   "id": "88b8f729-ba6a-4304-9bbc-445ccdb880e9",
   "metadata": {
    "scrolled": true
   },
   "source": [
    "import pandas as pd\n",
    "print(type(pd.to_datetime('2019-09-30')))\n",
    "print(pd.to_datetime('2019-09-30'))\n",
    "print(pd.to_datetime('September 30th, 2019'))\n",
    "print(pd.to_datetime('6:00:00'))\n",
    "print(pd.to_datetime('2019-09-30 06:30:06'))\n",
    "print(pd.to_datetime('September 30th, 2019 06:09 PM'))"
   ]
  },
  {
   "cell_type": "code",
   "execution_count": 17,
   "id": "50b70f6c-745c-41f3-9747-618f2e3402b0",
   "metadata": {},
   "outputs": [
    {
     "ename": "AttributeError",
     "evalue": "'REST' object has no attribute 'get_barset'",
     "output_type": "error",
     "traceback": [
      "\u001b[1;31m---------------------------------------------------------------------------\u001b[0m",
      "\u001b[1;31mAttributeError\u001b[0m                            Traceback (most recent call last)",
      "Cell \u001b[1;32mIn[17], line 3\u001b[0m\n\u001b[0;32m      1\u001b[0m \u001b[38;5;28;01mimport\u001b[39;00m \u001b[38;5;21;01malpaca_trade_api\u001b[39;00m \u001b[38;5;28;01mas\u001b[39;00m \u001b[38;5;21;01mtradeapi\u001b[39;00m\n\u001b[0;32m      2\u001b[0m api \u001b[38;5;241m=\u001b[39m tradeapi\u001b[38;5;241m.\u001b[39mREST(key_id\u001b[38;5;241m=\u001b[39m\u001b[38;5;124m\"\u001b[39m\u001b[38;5;124mAKUTKY5V16DQ533MCM95\u001b[39m\u001b[38;5;124m\"\u001b[39m, secret_key\u001b[38;5;241m=\u001b[39m\u001b[38;5;124m\"\u001b[39m\u001b[38;5;124mlusSAgoBe63lD7BI3EZA74LrGMTUeR6dD5I67DeV\u001b[39m\u001b[38;5;124m\"\u001b[39m)\n\u001b[1;32m----> 3\u001b[0m barset \u001b[38;5;241m=\u001b[39m \u001b[43mapi\u001b[49m\u001b[38;5;241;43m.\u001b[39;49m\u001b[43mget_barset\u001b[49m(\u001b[38;5;124m'\u001b[39m\u001b[38;5;124mGOOG\u001b[39m\u001b[38;5;124m'\u001b[39m, \u001b[38;5;124m'\u001b[39m\u001b[38;5;124mday\u001b[39m\u001b[38;5;124m'\u001b[39m, limit\u001b[38;5;241m=\u001b[39m\u001b[38;5;241m252\u001b[39m)\n\u001b[0;32m      5\u001b[0m \u001b[38;5;66;03m# Augmented Dicky-Fuller Test\u001b[39;00m\n\u001b[0;32m      6\u001b[0m \u001b[38;5;28;01mfrom\u001b[39;00m \u001b[38;5;21;01mstatsmodels\u001b[39;00m\u001b[38;5;21;01m.\u001b[39;00m\u001b[38;5;21;01mtsa\u001b[39;00m\u001b[38;5;21;01m.\u001b[39;00m\u001b[38;5;21;01mstattools\u001b[39;00m \u001b[38;5;28;01mimport\u001b[39;00m adfuller\n",
      "\u001b[1;31mAttributeError\u001b[0m: 'REST' object has no attribute 'get_barset'"
     ]
    }
   ],
   "source": [
    "import alpaca_trade_api as tradeapi\n",
    "api = tradeapi.REST(key_id=\"AKUTKY5V16DQ533MCM95\", secret_key=\"lusSAgoBe63lD7BI3EZA74LrGMTUeR6dD5I67DeV\")\n",
    "barset = api.get_barset('GOOG', 'day', limit=252)\n",
    "\n",
    "# Augmented Dicky-Fuller Test\n",
    "from statsmodels.tsa.stattools import adfuller\n",
    "r = adfuller(barset.df[('GOOG', 'close')].values)\n",
    "print(f'ADF Statistic: {r[0]:.2f}') \n",
    "for k,v in r[4].items():   \n",
    "\tprint (f'{k}: {v:.2f}')"
   ]
  },
  {
   "cell_type": "code",
   "execution_count": null,
   "id": "6c0c0839-c2a4-42e0-a120-78162efb1662",
   "metadata": {},
   "outputs": [],
   "source": []
  }
 ],
 "metadata": {
  "kernelspec": {
   "display_name": "Python 3 (ipykernel)",
   "language": "python",
   "name": "python3"
  },
  "language_info": {
   "codemirror_mode": {
    "name": "ipython",
    "version": 3
   },
   "file_extension": ".py",
   "mimetype": "text/x-python",
   "name": "python",
   "nbconvert_exporter": "python",
   "pygments_lexer": "ipython3",
   "version": "3.11.5"
  }
 },
 "nbformat": 4,
 "nbformat_minor": 5
}
