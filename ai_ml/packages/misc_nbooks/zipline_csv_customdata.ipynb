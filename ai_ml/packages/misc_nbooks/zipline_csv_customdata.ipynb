{
 "cells": [
  {
   "cell_type": "code",
   "execution_count": 66,
   "id": "9449a3f5-946b-4970-9352-5738baba0ba7",
   "metadata": {},
   "outputs": [
    {
     "name": "stderr",
     "output_type": "stream",
     "text": [
      "Traceback (most recent call last):\n",
      "  File \"C:\\Users\\pthon\\anaconda3\\envs\\ta_env\\Scripts\\zipline-script.py\", line 6, in <module>\n",
      "    from zipline.__main__ import main\n",
      "  File \"C:\\Users\\pthon\\anaconda3\\envs\\ta_env\\lib\\site-packages\\zipline\\__init__.py\", line 29, in <module>\n",
      "    from .utils.run_algo import run_algorithm\n",
      "  File \"C:\\Users\\pthon\\anaconda3\\envs\\ta_env\\lib\\site-packages\\zipline\\utils\\run_algo.py\", line 28, in <module>\n",
      "    from zipline.extensions import load\n",
      "  File \"C:\\Users\\pthon\\anaconda3\\envs\\ta_env\\lib\\site-packages\\zipline\\extensions.py\", line 43, in <module>\n",
      "    import trading_calendars as tc\n",
      "  File \"C:\\Users\\pthon\\anaconda3\\envs\\ta_env\\lib\\site-packages\\trading_calendars\\__init__.py\", line 16, in <module>\n",
      "    from .trading_calendar import TradingCalendar\n",
      "  File \"C:\\Users\\pthon\\anaconda3\\envs\\ta_env\\lib\\site-packages\\trading_calendars\\trading_calendar.py\", line 33, in <module>\n",
      "    from .calendar_helpers import (\n",
      "  File \"C:\\Users\\pthon\\anaconda3\\envs\\ta_env\\lib\\site-packages\\trading_calendars\\calendar_helpers.py\", line 6, in <module>\n",
      "    NP_NAT = np.array([pd.NaT], dtype=np.int64)[0]\n",
      "TypeError: int() argument must be a string, a bytes-like object or a real number, not 'NaTType'\n"
     ]
    }
   ],
   "source": [
    "##!pip install trading_calendars\n",
    "!zipline bundles"
   ]
  },
  {
   "cell_type": "code",
   "execution_count": 55,
   "id": "ab55865a-15aa-4ce5-8ea0-723451b7b5bb",
   "metadata": {},
   "outputs": [
    {
     "name": "stdout",
     "output_type": "stream",
     "text": [
      "C:\\Users\\MAYANK DANGWAL\\.zipline\\zipline-bundles\n",
      "['extension.py']\n",
      "['ingester.py', 'iex.py', 'yahoo.py', 'binance.py']\n",
      "C:\\Users\\pthon\\anaconda3\\envs\\ta_env\\Lib\\site-packages\\zipline\n",
      "C:\\Users\\pthon\\anaconda3\\envs\\ta_env\\lib\\site-packages\\zipline\\data\\bundles\n"
     ]
    }
   ],
   "source": [
    "import os\n",
    "import argparse\n",
    "import logging\n",
    "import sys, os\n",
    "import shutil\n",
    "import zipline.data.bundles as bld\n",
    "\n",
    "file_path = str(Path.home() / '.zipline\\zipline-bundles')\n",
    "tgt_base_folder = r\"C:\\Users\\pthon\\anaconda3\\envs\\ta_env\\Lib\\site-packages\\zipline\"\n",
    "### initialize the input argument parser\n",
    "#parser=argparse.ArgumentParser(description='Add zipline bundles')\n",
    "#parser.add_argument('-f', '--force', action='store_true')\n",
    "### parse input arguments\n",
    "#input_args=parser.parse_args()\n",
    "\n",
    "src_dir=os.path.join(os.path.abspath(os.path.dirname(file_path)), 'zipline-bundles')\n",
    "#C:\\Users\\MAYANK DANGWAL\\.zipline\\zipline-bundles\n",
    "src_ext=['extension.py']\n",
    "#['extension.py']\n",
    "src_ing=['ingester.py', 'iex.py', 'yahoo.py', 'binance.py']\n",
    "#['ingester.py', 'iex.py', 'yahoo.py', 'binance.py']\n",
    "### destination directories\n",
    "dst_ext=tgt_base_folder\n",
    "#C:\\Users\\pthon\\anaconda3\\envs\\ta_env\\Lib\\site-packages\\zipline\n",
    "dst_ing=bld.__path__[0]\n",
    "#C:\\Users\\pthon\\anaconda3\\envs\\ta_env\\lib\\site-packages\\zipline\\data\\bundles\n",
    "\n",
    "#filelist, dest, src, force\n",
    "#copy(src_ext, dst_ext, src_dir, force)\n",
    "#copy(src_ing, dst_ing, src_dir, force)\n",
    "#print(file_path)\n",
    "print(src_dir)\n",
    "print(src_ext)\n",
    "print(src_ing)\n",
    "print(dst_ext)\n",
    "print(dst_ing)\n",
    "\n",
    "\n"
   ]
  },
  {
   "cell_type": "code",
   "execution_count": 43,
   "id": "f1ab7eed-4eed-43de-849d-a5ab55a4adb0",
   "metadata": {},
   "outputs": [
    {
     "name": "stdout",
     "output_type": "stream",
     "text": [
      "C:\\Users\\MAYANK DANGWAL\\.zipline\\csv\\yahoo\n"
     ]
    }
   ],
   "source": [
    "import os\n",
    "import sys\n",
    "import numpy as np\n",
    "import pandas as pd\n",
    "import datetime as dt\n",
    "#\n",
    "from logbook import Logger\n",
    "#\n",
    "from zipline.utils.cli import maybe_show_progress\n",
    "\n",
    "log = Logger(__name__)\n",
    "\n",
    "from pathlib import Path\n",
    "from zipline.data.bundles import register\n",
    "from zipline.data.bundles.ingester import csv_ingester # ingester.py need to be placed in zipline.data.bundles\n",
    "\n",
    "print(str(Path.home() / '.zipline/csv/yahoo'))\n",
    "\n",
    "\n"
   ]
  },
  {
   "cell_type": "code",
   "execution_count": 37,
   "id": "c2cc4604-b0da-48c0-b65f-ebab98fad468",
   "metadata": {},
   "outputs": [
    {
     "name": "stdout",
     "output_type": "stream",
     "text": [
      "Collecting logbook\n",
      "  Downloading Logbook-1.7.0.post0-cp310-cp310-win_amd64.whl.metadata (2.6 kB)\n",
      "Downloading Logbook-1.7.0.post0-cp310-cp310-win_amd64.whl (124 kB)\n",
      "   ---------------------------------------- 0.0/124.8 kB ? eta -:--:--\n",
      "   --- ------------------------------------ 10.2/124.8 kB ? eta -:--:--\n",
      "   --- ------------------------------------ 10.2/124.8 kB ? eta -:--:--\n",
      "   ------------------- ------------------- 61.4/124.8 kB 409.6 kB/s eta 0:00:01\n",
      "   -------------------------------------  122.9/124.8 kB 654.9 kB/s eta 0:00:01\n",
      "   -------------------------------------  122.9/124.8 kB 654.9 kB/s eta 0:00:01\n",
      "   -------------------------------------  122.9/124.8 kB 654.9 kB/s eta 0:00:01\n",
      "   -------------------------------------- 124.8/124.8 kB 385.7 kB/s eta 0:00:00\n",
      "Installing collected packages: logbook\n",
      "Successfully installed logbook-1.7.0.post0\n"
     ]
    }
   ],
   "source": [
    "!pip install logbook"
   ]
  },
  {
   "cell_type": "code",
   "execution_count": 18,
   "id": "d342d0d9-e522-4f47-95e4-70da5e8a93f8",
   "metadata": {},
   "outputs": [
    {
     "name": "stdout",
     "output_type": "stream",
     "text": [
      "                 open       high        low      close    volume   adjclose  \\\n",
      "date                                                                          \n",
      "2023-01-03  18.900000  18.990000  17.080000  17.340000  25993900  17.340000   \n",
      "2023-01-04  17.200001  18.059999  16.559999  17.709999  28730200  17.709999   \n",
      "2023-01-05  17.350000  17.379999  16.530001  16.559999  24201200  16.559999   \n",
      "\n",
      "            dividend  split  \n",
      "date                         \n",
      "2023-01-03         0      1  \n",
      "2023-01-04         0      1  \n",
      "2023-01-05         0      1  \n"
     ]
    }
   ],
   "source": [
    "from yahoofinancials import YahooFinancials\n",
    "import pandas as pd\n",
    "import datetime as dt\n",
    "from pathlib import Path\n",
    "\n",
    "symbol = 'RIVN'\n",
    "table_file = str(Path.home() / '.zipline/csv/yahoo/rivn.csv')\n",
    "\n",
    "def downloader(symbol):\n",
    "        \"\"\"downloads symbol price data using yahoo REST API\n",
    "        :param symbol: the symbol name\n",
    "        :type symbol: str\n",
    "        \"\"\"\n",
    "        start_date  = \"2023-01-01\"\n",
    "        end_date  = \"2023-12-14\"\n",
    "        granularity = \"daily\"\n",
    "        yf = YahooFinancials(symbol)\n",
    "\n",
    "        res = yf.get_historical_price_data(str(start_date), str(end_date), granularity)\n",
    "        \n",
    "        if not res or symbol not in res or 'prices' not in res[symbol]:\n",
    "            raise ValueError('Fetching price data for \"{}\" failed.'.format(symbol))\n",
    "\n",
    "        #print(res)\n",
    "        prices=res[symbol]['prices']\n",
    "        df = pd.DataFrame({'open': [p['open'] for p in prices],\n",
    "                           'high': [p['high'] for p in prices],\n",
    "                           'low': [p['low'] for p in prices],\n",
    "                           'close': [p['close'] for p in prices],\n",
    "                           'volume': [p['volume'] for p in prices],\n",
    "                           'adjclose': [p['adjclose'] for p in prices],}, \n",
    "                           index=[pd.Timestamp(d['formatted_date']) for d in prices])\n",
    "        df.index.name = 'date'\n",
    "        if 'dividend' in prices:\n",
    "            df['dividend'] = [p['dividend'] for p in prices]\n",
    "        else:\n",
    "            df['dividend'] = 0\n",
    "\n",
    "        if 'split' in prices:\n",
    "            df['split'] = [p['split'] for p in prices]\n",
    "        else:\n",
    "            df['split'] = 1\n",
    "\n",
    "        print(df.head(3))\n",
    "\n",
    "        return df\n",
    "\n",
    "df = downloader(symbol)\n",
    "#df.to_csv(table_file)\n"
   ]
  },
  {
   "cell_type": "code",
   "execution_count": 13,
   "id": "a494ea77-f238-4ed8-b791-f2476e4498fd",
   "metadata": {},
   "outputs": [
    {
     "name": "stdout",
     "output_type": "stream",
     "text": [
      "C:\\Users\\pthon\\anaconda3\\envs\\ta_env\\data\\custom_data_bundle\\daily\\yahoo.csv\n",
      "[*********************100%%**********************]  1 of 1 completed\n"
     ]
    }
   ],
   "source": [
    "import os\n",
    "import yfinance as yf\n",
    "import pandas as pd\n",
    "from datetime import datetime\n",
    "\n",
    "stocks = ['RIVN']\n",
    "start_date  = \"2023-01-01\"\n",
    "end_date  = \"2023-12-14\"\n",
    "full_file_name = \"yahoo.csv\"\n",
    "# build the file name\n",
    "base_folder_path = r\"C:\\Users\\pthon\\anaconda3\\envs\\ta_env\\data\\custom_data_bundle\"\n",
    "subfolder_name = \"daily\"\n",
    "folder_path = os.path.join(base_folder_path, subfolder_name)\n",
    "yahoo_file = os.path.join(folder_path, full_file_name)\n",
    "print(yahoo_file)\n",
    "\n",
    "stock_data = yf.download(stocks, start=start_date, end=end_date).dropna()\n",
    "stock_data.to_csv(yahoo_data_path)\n",
    "\n"
   ]
  },
  {
   "cell_type": "code",
   "execution_count": 17,
   "id": "fde427b9-6039-48b8-a3c8-71e51488bf62",
   "metadata": {
    "scrolled": true
   },
   "outputs": [
    {
     "name": "stderr",
     "output_type": "stream",
     "text": [
      "Traceback (most recent call last):\n",
      "  File \"C:\\Users\\pthon\\anaconda3\\envs\\ta_env\\Scripts\\zipline-script.py\", line 6, in <module>\n",
      "    from zipline.__main__ import main\n",
      "  File \"C:\\Users\\pthon\\anaconda3\\envs\\ta_env\\lib\\site-packages\\zipline\\__init__.py\", line 29, in <module>\n",
      "    from .utils.run_algo import run_algorithm\n",
      "  File \"C:\\Users\\pthon\\anaconda3\\envs\\ta_env\\lib\\site-packages\\zipline\\utils\\run_algo.py\", line 28, in <module>\n",
      "    from zipline.extensions import load\n",
      "  File \"C:\\Users\\pthon\\anaconda3\\envs\\ta_env\\lib\\site-packages\\zipline\\extensions.py\", line 4, in <module>\n",
      "    from zipline.data.bundles import register, yahoo_NYSE, csvdir\n",
      "ImportError: cannot import name 'yahoo_NYSE' from 'zipline.data.bundles' (C:\\Users\\pthon\\anaconda3\\envs\\ta_env\\lib\\site-packages\\zipline\\data\\bundles\\__init__.py)\n"
     ]
    }
   ],
   "source": [
    "!zipline ingest -b csvdir"
   ]
  },
  {
   "cell_type": "code",
   "execution_count": 12,
   "id": "bb8f826b-ff47-49e0-956e-ea2c03f135db",
   "metadata": {},
   "outputs": [
    {
     "name": "stdout",
     "output_type": "stream",
     "text": [
      "Index(['sid', 'symbol', 'date', 'open', 'high', 'low', 'close', 'volume',\n",
      "       'dividend', 'split'],\n",
      "      dtype='object')\n",
      "     sid symbol        date       open       high        low      close  \\\n",
      "235    0   RIVN  2023-12-08  19.040001  19.549999  18.620001  19.040001   \n",
      "236    0   RIVN  2023-12-11  19.110001  19.290001  18.770000  18.950001   \n",
      "237    0   RIVN  2023-12-12  18.910000  18.910000  17.750000  18.209999   \n",
      "238    0   RIVN  2023-12-13  18.100000  19.690001  17.940001  19.680000   \n",
      "\n",
      "       volume  dividend  split  \n",
      "235  34897300       0.0    1.0  \n",
      "236  17753000       0.0    1.0  \n",
      "237  33865500       0.0    1.0  \n",
      "238  46247700       0.0    1.0  \n"
     ]
    },
    {
     "name": "stderr",
     "output_type": "stream",
     "text": [
      "C:\\Users\\MAYANK DANGWAL\\AppData\\Local\\Temp\\ipykernel_13664\\1064953717.py:36: FutureWarning: The provided callable <function min at 0x0000029B76119510> is currently using SeriesGroupBy.min. In a future version of pandas, the provided callable will be used directly. To keep current behavior pass the string \"min\" instead.\n",
      "  data = data.groupby(by='symbol').agg({'date': [np.min, np.max]})\n",
      "C:\\Users\\MAYANK DANGWAL\\AppData\\Local\\Temp\\ipykernel_13664\\1064953717.py:36: FutureWarning: The provided callable <function max at 0x0000029B761193F0> is currently using SeriesGroupBy.max. In a future version of pandas, the provided callable will be used directly. To keep current behavior pass the string \"max\" instead.\n",
      "  data = data.groupby(by='symbol').agg({'date': [np.min, np.max]})\n"
     ]
    },
    {
     "ename": "KeyError",
     "evalue": "'amin'",
     "output_type": "error",
     "traceback": [
      "\u001b[1;31m---------------------------------------------------------------------------\u001b[0m",
      "\u001b[1;31mKeyError\u001b[0m                                  Traceback (most recent call last)",
      "File \u001b[1;32mC:\\Users\\pthon\\anaconda3\\envs\\ta_env\\lib\\site-packages\\pandas\\core\\indexes\\base.py:3790\u001b[0m, in \u001b[0;36mIndex.get_loc\u001b[1;34m(self, key)\u001b[0m\n\u001b[0;32m   3789\u001b[0m \u001b[38;5;28;01mtry\u001b[39;00m:\n\u001b[1;32m-> 3790\u001b[0m     \u001b[38;5;28;01mreturn\u001b[39;00m \u001b[38;5;28;43mself\u001b[39;49m\u001b[38;5;241;43m.\u001b[39;49m\u001b[43m_engine\u001b[49m\u001b[38;5;241;43m.\u001b[39;49m\u001b[43mget_loc\u001b[49m\u001b[43m(\u001b[49m\u001b[43mcasted_key\u001b[49m\u001b[43m)\u001b[49m\n\u001b[0;32m   3791\u001b[0m \u001b[38;5;28;01mexcept\u001b[39;00m \u001b[38;5;167;01mKeyError\u001b[39;00m \u001b[38;5;28;01mas\u001b[39;00m err:\n",
      "File \u001b[1;32mindex.pyx:152\u001b[0m, in \u001b[0;36mpandas._libs.index.IndexEngine.get_loc\u001b[1;34m()\u001b[0m\n",
      "File \u001b[1;32mindex.pyx:181\u001b[0m, in \u001b[0;36mpandas._libs.index.IndexEngine.get_loc\u001b[1;34m()\u001b[0m\n",
      "File \u001b[1;32mpandas\\_libs\\hashtable_class_helper.pxi:7080\u001b[0m, in \u001b[0;36mpandas._libs.hashtable.PyObjectHashTable.get_item\u001b[1;34m()\u001b[0m\n",
      "File \u001b[1;32mpandas\\_libs\\hashtable_class_helper.pxi:7088\u001b[0m, in \u001b[0;36mpandas._libs.hashtable.PyObjectHashTable.get_item\u001b[1;34m()\u001b[0m\n",
      "\u001b[1;31mKeyError\u001b[0m: 'amin'",
      "\nThe above exception was the direct cause of the following exception:\n",
      "\u001b[1;31mKeyError\u001b[0m                                  Traceback (most recent call last)",
      "Cell \u001b[1;32mIn[12], line 38\u001b[0m\n\u001b[0;32m     36\u001b[0m data \u001b[38;5;241m=\u001b[39m data\u001b[38;5;241m.\u001b[39mgroupby(by\u001b[38;5;241m=\u001b[39m\u001b[38;5;124m'\u001b[39m\u001b[38;5;124msymbol\u001b[39m\u001b[38;5;124m'\u001b[39m)\u001b[38;5;241m.\u001b[39magg({\u001b[38;5;124m'\u001b[39m\u001b[38;5;124mdate\u001b[39m\u001b[38;5;124m'\u001b[39m: [np\u001b[38;5;241m.\u001b[39mmin, np\u001b[38;5;241m.\u001b[39mmax]})\n\u001b[0;32m     37\u001b[0m data\u001b[38;5;241m.\u001b[39mreset_index(inplace\u001b[38;5;241m=\u001b[39m\u001b[38;5;28;01mTrue\u001b[39;00m)\n\u001b[1;32m---> 38\u001b[0m data[\u001b[38;5;124m'\u001b[39m\u001b[38;5;124mstart_date\u001b[39m\u001b[38;5;124m'\u001b[39m] \u001b[38;5;241m=\u001b[39m pd\u001b[38;5;241m.\u001b[39mto_datetime(\u001b[43mdata\u001b[49m\u001b[43m[\u001b[49m\u001b[38;5;124;43m'\u001b[39;49m\u001b[38;5;124;43mdate\u001b[39;49m\u001b[38;5;124;43m'\u001b[39;49m\u001b[43m]\u001b[49m\u001b[43m[\u001b[49m\u001b[38;5;124;43m'\u001b[39;49m\u001b[38;5;124;43mamin\u001b[39;49m\u001b[38;5;124;43m'\u001b[39;49m\u001b[43m]\u001b[49m)\n\u001b[0;32m     39\u001b[0m data[\u001b[38;5;124m'\u001b[39m\u001b[38;5;124mend_date\u001b[39m\u001b[38;5;124m'\u001b[39m] \u001b[38;5;241m=\u001b[39m pd\u001b[38;5;241m.\u001b[39mto_datetime(data[\u001b[38;5;124m'\u001b[39m\u001b[38;5;124mdate\u001b[39m\u001b[38;5;124m'\u001b[39m][\u001b[38;5;124m'\u001b[39m\u001b[38;5;124mamax\u001b[39m\u001b[38;5;124m'\u001b[39m])\n\u001b[0;32m     40\u001b[0m \u001b[38;5;28;01mdel\u001b[39;00m data[\u001b[38;5;124m'\u001b[39m\u001b[38;5;124mdate\u001b[39m\u001b[38;5;124m'\u001b[39m]\n",
      "File \u001b[1;32mC:\\Users\\pthon\\anaconda3\\envs\\ta_env\\lib\\site-packages\\pandas\\core\\frame.py:3896\u001b[0m, in \u001b[0;36mDataFrame.__getitem__\u001b[1;34m(self, key)\u001b[0m\n\u001b[0;32m   3894\u001b[0m \u001b[38;5;28;01mif\u001b[39;00m \u001b[38;5;28mself\u001b[39m\u001b[38;5;241m.\u001b[39mcolumns\u001b[38;5;241m.\u001b[39mnlevels \u001b[38;5;241m>\u001b[39m \u001b[38;5;241m1\u001b[39m:\n\u001b[0;32m   3895\u001b[0m     \u001b[38;5;28;01mreturn\u001b[39;00m \u001b[38;5;28mself\u001b[39m\u001b[38;5;241m.\u001b[39m_getitem_multilevel(key)\n\u001b[1;32m-> 3896\u001b[0m indexer \u001b[38;5;241m=\u001b[39m \u001b[38;5;28;43mself\u001b[39;49m\u001b[38;5;241;43m.\u001b[39;49m\u001b[43mcolumns\u001b[49m\u001b[38;5;241;43m.\u001b[39;49m\u001b[43mget_loc\u001b[49m\u001b[43m(\u001b[49m\u001b[43mkey\u001b[49m\u001b[43m)\u001b[49m\n\u001b[0;32m   3897\u001b[0m \u001b[38;5;28;01mif\u001b[39;00m is_integer(indexer):\n\u001b[0;32m   3898\u001b[0m     indexer \u001b[38;5;241m=\u001b[39m [indexer]\n",
      "File \u001b[1;32mC:\\Users\\pthon\\anaconda3\\envs\\ta_env\\lib\\site-packages\\pandas\\core\\indexes\\base.py:3797\u001b[0m, in \u001b[0;36mIndex.get_loc\u001b[1;34m(self, key)\u001b[0m\n\u001b[0;32m   3792\u001b[0m     \u001b[38;5;28;01mif\u001b[39;00m \u001b[38;5;28misinstance\u001b[39m(casted_key, \u001b[38;5;28mslice\u001b[39m) \u001b[38;5;129;01mor\u001b[39;00m (\n\u001b[0;32m   3793\u001b[0m         \u001b[38;5;28misinstance\u001b[39m(casted_key, abc\u001b[38;5;241m.\u001b[39mIterable)\n\u001b[0;32m   3794\u001b[0m         \u001b[38;5;129;01mand\u001b[39;00m \u001b[38;5;28many\u001b[39m(\u001b[38;5;28misinstance\u001b[39m(x, \u001b[38;5;28mslice\u001b[39m) \u001b[38;5;28;01mfor\u001b[39;00m x \u001b[38;5;129;01min\u001b[39;00m casted_key)\n\u001b[0;32m   3795\u001b[0m     ):\n\u001b[0;32m   3796\u001b[0m         \u001b[38;5;28;01mraise\u001b[39;00m InvalidIndexError(key)\n\u001b[1;32m-> 3797\u001b[0m     \u001b[38;5;28;01mraise\u001b[39;00m \u001b[38;5;167;01mKeyError\u001b[39;00m(key) \u001b[38;5;28;01mfrom\u001b[39;00m \u001b[38;5;21;01merr\u001b[39;00m\n\u001b[0;32m   3798\u001b[0m \u001b[38;5;28;01mexcept\u001b[39;00m \u001b[38;5;167;01mTypeError\u001b[39;00m:\n\u001b[0;32m   3799\u001b[0m     \u001b[38;5;66;03m# If we have a listlike key, _check_indexing_error will raise\u001b[39;00m\n\u001b[0;32m   3800\u001b[0m     \u001b[38;5;66;03m#  InvalidIndexError. Otherwise we fall through and re-raise\u001b[39;00m\n\u001b[0;32m   3801\u001b[0m     \u001b[38;5;66;03m#  the TypeError.\u001b[39;00m\n\u001b[0;32m   3802\u001b[0m     \u001b[38;5;28mself\u001b[39m\u001b[38;5;241m.\u001b[39m_check_indexing_error(key)\n",
      "\u001b[1;31mKeyError\u001b[0m: 'amin'"
     ]
    }
   ],
   "source": [
    "import pandas_datareader as pdr\n",
    "from datetime import datetime\n",
    "import yfinance as yf\n",
    "import pandas as pd\n",
    "import numpy as np\n",
    "#stocks = ['XLK', 'XLB', 'XLI', 'XLE', 'XLV', 'XLY', 'XLF', 'XLU', 'XLP']\n",
    "stocks = ['RIVN']\n",
    "start_date  = \"2023-01-01\"\n",
    "end_date  = \"2023-12-14\"\n",
    "\n",
    "#stock_data = yf.download(stocks, start=start_date, end=end_date).dropna()\n",
    "#stock_data.to_csv('zipline_test_rivn_yf_data.csv')\n",
    "# Create a new DataFrame in the format expected by Zipline\n",
    "# Load the downloaded data\n",
    "df = pd.read_csv('zipline_test_rivn_yf_data.csv',index_col=False)\n",
    "\n",
    "data_table = pd.DataFrame({\n",
    "    'sid': 0,  # Security ID, can be any non-negative integer\n",
    "    'symbol': 'RIVN',\n",
    "    'date': pd.to_datetime(df['Date']).dt.strftime('%Y-%m-%d'),\n",
    "    'open': df['Open'],\n",
    "    'high': df['High'],\n",
    "    'low': df['Low'],\n",
    "    'close': df['Close'],\n",
    "    'volume': df['Volume'],\n",
    "    'dividend': 0.0,  # Assuming no dividends for simplicity\n",
    "    'split': 1.0  # Assuming no stock splits for simplicity\n",
    "})\n",
    "\n",
    "data = data_table.sort_values(['symbol', 'date'],ascending=[True, True])\n",
    "# Save the DataFrame in the format expected by Zipline\n",
    "# Replace 'zipline_data.csv' with your desired output file name\n",
    "print(data_table.columns)\n",
    "print(data_table.tail(4))\n",
    "\n",
    "data = data.groupby(by='symbol').agg({'date': [np.min, np.max]})\n",
    "data.reset_index(inplace=True)\n",
    "data['start_date'] = pd.to_datetime(data['date']['amin'])\n",
    "data['end_date'] = pd.to_datetime(data['date']['amax'])\n",
    "del data['date']\n",
    "data.columns = data.columns.get_level_values(0)\n",
    "data['auto_close_date'] = data['end_date'] + pd.Timedelta(days=1)"
   ]
  },
  {
   "cell_type": "code",
   "execution_count": 9,
   "id": "fb5bfe58-3218-44fa-bacc-d9cc020bd4ab",
   "metadata": {},
   "outputs": [
    {
     "ename": "SyntaxError",
     "evalue": "unexpected character after line continuation character (2451996867.py, line 5)",
     "output_type": "error",
     "traceback": [
      "\u001b[1;36m  Cell \u001b[1;32mIn[9], line 5\u001b[1;36m\u001b[0m\n\u001b[1;33m    C:\\Users\\pthon\\anaconda3\\envs\\ta_env\u001b[0m\n\u001b[1;37m       ^\u001b[0m\n\u001b[1;31mSyntaxError\u001b[0m\u001b[1;31m:\u001b[0m unexpected character after line continuation character\n"
     ]
    }
   ],
   "source": [
    "import pandas as pd\n",
    "\n",
    "from zipline.data.bundles import register\n",
    "from zipline.data.bundles.csvdir import csvdir_equities\n",
    "C:\\Users\\pthon\\anaconda3\\envs\\ta_env\n",
    "start_session = pd.Timestamp('2023-01-01', tz='utc')\n",
    "end_session = pd.Timestamp('2023-12-14', tz='utc')\n",
    "\n",
    "register(\n",
    "    'custom-csvdir-bundle',\n",
    "    csvdir_equities(\n",
    "        ['daily'],\n",
    "        \"C:\\Users\\pthon\\anaconda3\\envs\\ta_env\",\n",
    "    ),\n",
    "    calendar_name='NYSE', # US equities\n",
    "    start_session=start_session,\n",
    "    end_session=end_session\n",
    ")\n",
    "\n",
    "\n",
    "\n"
   ]
  },
  {
   "cell_type": "code",
   "execution_count": 7,
   "id": "79fdba84-add4-4737-aa0e-3b38b1ae8b2d",
   "metadata": {},
   "outputs": [
    {
     "name": "stderr",
     "output_type": "stream",
     "text": [
      "Error: No bundle registered with the name 'custom-csvdir-bundle'\n"
     ]
    }
   ],
   "source": [
    "!zipline ingest -b custom-csvdir-bundle"
   ]
  },
  {
   "cell_type": "code",
   "execution_count": null,
   "id": "834e0681-6134-4312-80bc-b5cd817a88dd",
   "metadata": {},
   "outputs": [],
   "source": []
  }
 ],
 "metadata": {
  "kernelspec": {
   "display_name": "Python 3 (ipykernel)",
   "language": "python",
   "name": "python3"
  },
  "language_info": {
   "codemirror_mode": {
    "name": "ipython",
    "version": 3
   },
   "file_extension": ".py",
   "mimetype": "text/x-python",
   "name": "python",
   "nbconvert_exporter": "python",
   "pygments_lexer": "ipython3",
   "version": "3.10.13"
  }
 },
 "nbformat": 4,
 "nbformat_minor": 5
}
